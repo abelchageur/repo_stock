{
 "cells": [
  {
   "cell_type": "code",
   "execution_count": 41,
   "id": "59844d2b-47ca-49c8-9d80-54344db23bb7",
   "metadata": {},
   "outputs": [],
   "source": [
    "from selenium import webdriver\n",
    "from selenium.webdriver.common.by import By\n",
    "from selenium.webdriver.chrome.options import Options\n",
    "from selenium.common.exceptions import NoSuchElementException \n",
    "from webdriver_manager.chrome import ChromeDriverManager\n",
    "from selenium.webdriver.support.ui import WebDriverWait\n",
    "from selenium.webdriver.support import expected_conditions as EC\n",
    "import numpy as np\n",
    "import pandas as pd\n",
    "import time, random\n",
    "from selenium.webdriver.chrome.options import Options\n",
    "from selenium.webdriver.chrome.service import Service\n",
    "\n"
   ]
  },
  {
   "cell_type": "code",
   "execution_count": 42,
   "id": "7c263fd0-e368-460a-8f9c-5de2b00c2d71",
   "metadata": {},
   "outputs": [],
   "source": [
    "# pip install selenium-wire\n",
    "# # webdriver-manager\n",
    "# # pip install \n"
   ]
  },
  {
   "cell_type": "code",
   "execution_count": 43,
   "id": "00b1d2e6-57f4-4d08-bb86-34b9e1856001",
   "metadata": {},
   "outputs": [],
   "source": [
    "PROXY_LIST = [\n",
    "    \"hppimpgq:fwqss0z8ktob@142.111.48.253:7030\",\n",
    "    \"hppimpgq:fwqss0z8ktob@31.59.20.176:6754\",\n",
    "    \"hppimpgq:fwqss0z8ktob@38.170.176.177:5572\",\n",
    "    \"hppimpgq:fwqss0z8ktob@198.23.239.134:6540\",\n",
    "    \"hppimpgq:fwqss0z8ktob@45.38.107.97:6014\",\n",
    "    \"hppimpgq:fwqss0z8ktob@142.111.67.146:5611\",\n",
    "    \"hppimpgq:fwqss0z8ktob@107.172.163.27:6543\",\n",
    "    \"hppimpgq:fwqss0z8ktob@64.137.96.74:6641\",\n",
    "    \"hppimpgq:fwqss0z8ktob@216.10.27.159:6837\",\n",
    "    \"hppimpgq:fwqss0z8ktob@142.147.128.93:6593\",\n",
    "]"
   ]
  },
  {
   "cell_type": "code",
   "execution_count": 70,
   "id": "6227acaf-e24f-4ea4-873b-6af17111c8e9",
   "metadata": {},
   "outputs": [],
   "source": [
    "import os\n",
    "import zipfile\n",
    "import json\n",
    "import textwrap\n",
    "import random\n",
    "import string\n",
    "import time\n",
    "from selenium import webdriver\n",
    "from selenium.webdriver.chrome.service import Service\n",
    "from selenium.webdriver.chrome.options import Options\n",
    "from webdriver_manager.chrome import ChromeDriverManager\n",
    "from selenium.webdriver.common.by import By\n",
    "\n",
    "# ---------------------------\n",
    "# Utilities: build extension\n",
    "# ---------------------------\n",
    "def _random_name(n=6):\n",
    "    return \"\".join(random.choices(string.ascii_lowercase, k=n))\n",
    "\n",
    "def make_proxy_auth_extension(proxy_host: str, proxy_port: str, proxy_user: str, proxy_pass: str, scheme: str = \"http\"):\n",
    "    \"\"\"\n",
    "    Create a Chrome extension (zip) that sets an upstream proxy and supplies auth credentials.\n",
    "    Returns absolute path to the created .zip extension.\n",
    "    \"\"\"\n",
    "    plugin_file = f\"proxy_auth_{proxy_host}_{proxy_port}_{_random_name()}.zip\"\n",
    "\n",
    "    manifest_json = {\n",
    "        \"version\": \"1.0.0\",\n",
    "        \"manifest_version\": 2,\n",
    "        \"name\": \"Proxy Auth Extension\",\n",
    "        \"permissions\": [\n",
    "            \"proxy\",\n",
    "            \"tabs\",\n",
    "            \"unlimitedStorage\",\n",
    "            \"storage\",\n",
    "            \"<all_urls>\",\n",
    "            \"webRequest\",\n",
    "            \"webRequestBlocking\"\n",
    "        ],\n",
    "        \"background\": {\"scripts\": [\"background.js\"]},\n",
    "        \"minimum_chrome_version\":\"22.0.0\"\n",
    "    }\n",
    "\n",
    "    background_js = textwrap.dedent(f\"\"\"\n",
    "    var config = {{\n",
    "      mode: \"fixed_servers\",\n",
    "      rules: {{\n",
    "        singleProxy: {{ scheme: \"{scheme}\", host: \"{proxy_host}\", port: parseInt({proxy_port}) }},\n",
    "        bypassList: [\"localhost\"]\n",
    "      }}\n",
    "    }};\n",
    "    chrome.proxy.settings.set({{value: config, scope: \"regular\"}}, function(){{}});\n",
    "    function callbackFn(details) {{\n",
    "        return {{authCredentials: {{username: \"{proxy_user}\", password: \"{proxy_pass}\"}}}};\n",
    "    }}\n",
    "    chrome.webRequest.onAuthRequired.addListener(\n",
    "        callbackFn,\n",
    "        {{urls: [\"<all_urls>\"]}},\n",
    "        ['blocking']\n",
    "    );\n",
    "    \"\"\")\n",
    "\n",
    "    with zipfile.ZipFile(plugin_file, 'w') as zp:\n",
    "        zp.writestr(\"manifest.json\", json.dumps(manifest_json))\n",
    "        zp.writestr(\"background.js\", background_js)\n",
    "\n",
    "    return os.path.abspath(plugin_file)\n",
    "\n",
    "# ---------------------------\n",
    "# Create driver function\n",
    "# ---------------------------\n",
    "def create_driver(proxy: str | None = None, headless: bool = True, allow_headless_with_ext: bool = False):\n",
    "    \"\"\"\n",
    "    Create a Chrome webdriver.\n",
    "    - proxy: None or \"host:port\" or \"user:pass@host:port\"\n",
    "    - headless: if True, attempt headless; if extension required and headless not supported, will default to visible\n",
    "    - allow_headless_with_ext: set to True to force headless even if extension may not load (not guaranteed)\n",
    "    \"\"\"\n",
    "    opts = Options()\n",
    "    # prefer the newer headless implementation\n",
    "    if headless:\n",
    "        opts.add_argument(\"--headless=new\")\n",
    "    opts.add_argument(\"--no-sandbox\")\n",
    "    opts.add_argument(\"--disable-dev-shm-usage\")\n",
    "    opts.add_argument(\"--disable-extensions\")  # we'll add required extensions explicitly\n",
    "    opts.add_argument(\"--disable-gpu\")\n",
    "\n",
    "    extension_path = None\n",
    "    # If proxy provided, determine if it has auth\n",
    "    if proxy:\n",
    "        if \"@\" in proxy:  # user:pass@host:port\n",
    "            creds, hostport = proxy.rsplit(\"@\", 1)\n",
    "            if \":\" not in creds or \":\" not in hostport:\n",
    "                raise ValueError(\"Auth proxy must be user:pass@host:port\")\n",
    "            user, pwd = creds.split(\":\", 1)\n",
    "            host, port = hostport.split(\":\", 1)\n",
    "            # Chrome historically doesn't support extensions in classic headless.\n",
    "            # New headless may support; if not, switch to visible unless user allows.\n",
    "            if headless and not allow_headless_with_ext:\n",
    "                # warn and switch to visible because extensions often don't load in headless\n",
    "                print(\"[warning] Auth-proxy requires extension; switching to visible Chrome (headless disabled). \"\n",
    "                      \"Set allow_headless_with_ext=True if you want to attempt headless anyway.\")\n",
    "                headless = False\n",
    "                # recreate options for visible mode\n",
    "                opts = Options()\n",
    "                opts.add_argument(\"--no-sandbox\")\n",
    "                opts.add_argument(\"--disable-dev-shm-usage\")\n",
    "                opts.add_argument(\"--disable-gpu\")\n",
    "\n",
    "            extension_path = make_proxy_auth_extension(host, port, user, pwd)\n",
    "            opts.add_extension(extension_path)\n",
    "        else:\n",
    "            # no-auth proxy: use --proxy-server directly\n",
    "            opts.add_argument(f\"--proxy-server=http://{proxy}\")\n",
    "\n",
    "    # Create service and driver\n",
    "    service = Service(ChromeDriverManager().install())\n",
    "    driver = webdriver.Chrome(service=service, options=opts)\n",
    "\n",
    "    # set reasonable timeouts\n",
    "    driver.set_page_load_timeout(30)\n",
    "    driver.implicitly_wait(5)\n",
    "\n",
    "    # return both driver and extension path so caller can cleanup\n",
    "    return driver, extension_path\n",
    "\n",
    "# def create_driver(proxy=None):\n",
    "#     chrome_opts = Options()\n",
    "#     chrome_opts.add_argument(\"--headless=new\")\n",
    "#     chrome_opts.add_argument(\"--no-sandbox\")\n",
    "#     chrome_opts.add_argument(\"--disable-dev-shm-usage\")\n",
    "\n",
    "#     if proxy:\n",
    "#         chrome_opts.add_argument(f'--proxy-server=http://{proxy}')\n",
    "\n",
    "#     driver = webdriver.Chrome(\n",
    "#         service=Service(ChromeDriverManager().install()),\n",
    "#         options=chrome_opts\n",
    "#     )\n",
    "#     return driver\n",
    "# def _base_options(headless: bool):\n",
    "#     opts = Options()\n",
    "#     if headless:\n",
    "#         opts.add_argument(\"--headless=new\")   # hidden browser\n",
    "#     # else visible (no headless flag)\n",
    "#     opts.add_argument(\"--no-sandbox\")\n",
    "#     opts.add_argument(\"--disable-dev-shm-usage\")\n",
    "#     # optional: set a reasonable user agent if you want\n",
    "#     # opts.add_argument(\"user-agent=MyScraperBot/1.0\")\n",
    "#     return opts\n",
    "# def create_driver_headless(proxy: str | None = None):\n",
    "#     \"\"\"Return a headless Chrome WebDriver. proxy format: 'host:port' or 'user:pass@host:port' (see notes).\"\"\"\n",
    "#     opts = _base_options(headless=True)\n",
    "#     if proxy:\n",
    "#         opts.add_argument(f\"--proxy-server=http://{proxy}\")\n",
    "#     service = Service(ChromeDriverManager().install())\n",
    "#     driver = webdriver.Chrome(service=service, options=opts)\n",
    "#     return driver\n",
    "\n",
    "# def create_driver_visible(proxy: str | None = None):\n",
    "#     \"\"\"Return a visible (non-headless) Chrome WebDriver.\"\"\"\n",
    "#     opts = _base_options(headless=False)\n",
    "#     if proxy:\n",
    "#         opts.add_argument(f\"--proxy-server=http://{proxy}\")\n",
    "#     service = Service(ChromeDriverManager().install())\n",
    "#     driver = webdriver.Chrome(service=service, options=opts)\n",
    "#     return driver"
   ]
  },
  {
   "cell_type": "code",
   "execution_count": 77,
   "id": "024f478c-c72c-4ae2-a911-cb97adb84905",
   "metadata": {},
   "outputs": [
    {
     "name": "stdout",
     "output_type": "stream",
     "text": [
      "2\n"
     ]
    }
   ],
   "source": [
    "# for proxy in PROXY_LIST:\n",
    "#     browser = create_driver(proxy)\n",
    "print(2)"
   ]
  },
  {
   "cell_type": "code",
   "execution_count": 75,
   "id": "ce396c4d-4089-4aa8-bebd-7d00f1201629",
   "metadata": {},
   "outputs": [
    {
     "name": "stdout",
     "output_type": "stream",
     "text": [
      "{\n",
      "  \"origin\": \"105.69.81.66\"\n",
      "}\n"
     ]
    }
   ],
   "source": [
    "# # browser = webdriver.Chrome()\n",
    "browser, ext = create_driver(\"hppimpgq:fwqss0z8ktob@142.111.48.253:7030\", headless=True, allow_headless_with_ext=True)\n",
    "\n",
    "browser.get(\"https://httpbin.org/ip\")\n",
    "print(browser.find_element(By.TAG_NAME, \"body\").text)\n",
    "# time.sleep(2)"
   ]
  },
  {
   "cell_type": "code",
   "execution_count": 80,
   "id": "bf66b7b7-4154-4e53-a3f1-80c4e10a8945",
   "metadata": {},
   "outputs": [
    {
     "name": "stdout",
     "output_type": "stream",
     "text": [
      "<html><head></head><body></body></html>\n"
     ]
    }
   ],
   "source": [
    "import undetected_chromedriver as uc\n",
    "\n",
    "proxy = \"hppimpgq:fwqss0z8ktob@142.111.48.253:7030\"\n",
    "\n",
    "options = uc.ChromeOptions()\n",
    "options.add_argument(\"--headless=new\")\n",
    "options.add_argument(f'--proxy-server=http://{proxy.split(\"@\")[1]}')\n",
    "\n",
    "driver = uc.Chrome(options=options)\n",
    "driver.get(\"https://httpbin.org/ip\")\n",
    "print(driver.page_source)\n"
   ]
  },
  {
   "cell_type": "code",
   "execution_count": 78,
   "id": "dec5c764-06a2-4ef2-8049-c920b746b34e",
   "metadata": {},
   "outputs": [],
   "source": [
    "browser, ext = create_driver(\"142.111.48.253:7030\", headless=True)\n",
    "browser.get(\"https://httpbin.org/ip\")\n",
    "print(browser.find_element(By.TAG_NAME, \"body\").text)\n"
   ]
  },
  {
   "cell_type": "code",
   "execution_count": 47,
   "id": "c64a48b8-b4ba-4b69-93ab-061114170146",
   "metadata": {},
   "outputs": [
    {
     "name": "stdout",
     "output_type": "stream",
     "text": [
      "2\n"
     ]
    }
   ],
   "source": [
    "# recherche = browser.find_element(By.XPATH,'/html/body/div[1]/header/div/div[1]/div[2]/div/form/div[2]/div[1]/input')\n",
    "\n",
    "# time.sleep(2)\n",
    "# recherche.send_keys(\"commercial kitchen equipment\")\n",
    "# confirmer = browser.find_element(By.XPATH,'/html/body/div[1]/header/div/div[1]/div[2]/div/form/div[3]')\n",
    "# confirmer.click()\n",
    "for n in range(2,11):\n",
    "    product_divs = browser.find_elements(By.CSS_SELECTOR, 'div[role=\"listitem\"]')\n",
    "    for div in product_divs:\n",
    "        a_tag = div.find_element(By.TAG_NAME, \"a\")\n",
    "        href = a_tag.get_attribute(\"href\")\n",
    "        if href:\n",
    "            print(href)\n"
   ]
  },
  {
   "cell_type": "code",
   "execution_count": null,
   "id": "f7b8caee-e6be-477d-a395-f7416046fcd9",
   "metadata": {},
   "outputs": [],
   "source": []
  },
  {
   "cell_type": "code",
   "execution_count": 25,
   "id": "768cb0c4-0a5b-42e6-8471-553d999c58a5",
   "metadata": {},
   "outputs": [],
   "source": [
    "def get_element_text(driver, xpath):\n",
    "    \"\"\"\n",
    "    Quickly returns the text of an element if found.\n",
    "    If not found, returns an empty string immediately (no waiting or errors).\n",
    "    \"\"\"\n",
    "    try:\n",
    "        elements = driver.find_elements(By.XPATH, xpath)\n",
    "        if elements:\n",
    "            return elements[0].text.strip()\n",
    "        else:\n",
    "            return \"Nan\"\n",
    "    except Exception:\n",
    "        return \"Nan\""
   ]
  },
  {
   "cell_type": "code",
   "execution_count": 26,
   "id": "bd381799-d309-41be-ad10-f1a3e3aa184c",
   "metadata": {},
   "outputs": [],
   "source": [
    "def get_element_text_css(driver, css_selector):\n",
    "    \"\"\"\n",
    "    Quickly return text for a CSS selector, or empty string if not found.\n",
    "    Much faster than waiting for exceptions.\n",
    "    \"\"\"\n",
    "    try:\n",
    "        elements = driver.find_elements(By.CSS_SELECTOR, css_selector)\n",
    "        return elements[0].text.strip() if elements else \"\"\n",
    "    except Exception:\n",
    "        return \"\""
   ]
  },
  {
   "cell_type": "code",
   "execution_count": 31,
   "id": "2fe75c6e-e19c-4cb1-a667-ac61eb3910e7",
   "metadata": {},
   "outputs": [],
   "source": [
    "from urllib.parse import urljoin\n",
    "driver = browser\n",
    "product_list = [] \n",
    "\n",
    "for n in range(2,3):\n",
    "    product_urls = []\n",
    "    product_divs = browser.find_elements(By.CSS_SELECTOR, 'div[role=\"listitem\"]')\n",
    "    for div in product_divs:\n",
    "        try:\n",
    "            a_tag = div.find_element(By.TAG_NAME, \"a\")\n",
    "            href = a_tag.get_attribute(\"href\")\n",
    "            if href:\n",
    "                product_urls.append(href)\n",
    "        except:\n",
    "            continue \n",
    "    browser.quit()       \n",
    "    for proxy in PROXY_LIST:\n",
    "        browser = create_driver(proxy)\n",
    "        for link in product_urls:\n",
    "            browser.get(link)\n",
    "            time.sleep(0.5)\n",
    "    \n",
    "            product_info = {\n",
    "                \"name\": get_element_text(driver, \"//span[@id='productTitle']\"),\n",
    "                \"price\": get_element_text(driver, \"//div[contains(@id, 'corePrice')]\"),    \n",
    "                \"price_helper\": get_element_text(driver, \"//div[@id='corePriceDisplay_desktop_feature_div']\"),\n",
    "                \"past month\" : get_element_text(driver, \"//div[@class='a-section a-spacing-micro social-proofing-faceout']\"),\n",
    "                \"Brand\": get_element_text(driver, \"//div[@id='prodDetails']//th[normalize-space(.)='Brand']/following-sibling::td[@class='a-size-base prodDetAttrValue'] | //div[@id='productOverview_feature_div']//tr[.//span[contains(., 'Brand')]]//td[2]\"),\n",
    "                \"Recommended Uses For Product\": get_element_text(driver, \"//div[@id='prodDetails']//th[normalize-space(.)='Recommended Uses For Product']/following-sibling::td[@class='a-size-base prodDetAttrValue']| //div[@id='productOverview_feature_div']//tr[.//span[contains(., 'Recommended Uses For Product')]]//td[2]\" ),\n",
    "                # \"Mounting Type\": get_element_text(driver, \"//div[@id='prodDetails']//th[normalize-space(.)='Mounting Type']/following-sibling::td[@class='a-size-base prodDetAttrValue']| //div[@id='productOverview_feature_div']//tr[.//span[contains(., 'Mounting Type')]]//td[2]\" ),\n",
    "                # \"Finish Type\": get_element_text(driver, \"//div[@id='prodDetails']//th[normalize-space(.)='Finish Type']/following-sibling::td[@class='a-size-base prodDetAttrValue'] | //div[@id='productOverview_feature_div']//tr[.//span[contains(., 'Finish Type')]]//td[2]\" ),\n",
    "                \"Material\": get_element_text(driver, \"//div[@id='prodDetails']//th[normalize-space(.)='Material']/following-sibling::td[@class='a-size-base prodDetAttrValue'] | //div[@id='productOverview_feature_div']//tr[.//span[contains(., 'Material')]]//td[2]\" ),\n",
    "                \"Color\": get_element_text(driver, \"//div[@id='prodDetails']//th[normalize-space(.)='Color']/following-sibling::td[@class='a-size-base prodDetAttrValue'] | //div[@id='productOverview_feature_div']//tr[.//span[contains(., 'Color')]]//td[2] | //span[@id='inline-twister-expanded-dimension-text-color_name']\"),\n",
    "                # \"Number of Handles\": get_element_text(driver, \"//div[@id='prodDetails']//th[normalize-space(.)='Number of Handles']/following-sibling::td[@class='a-size-base prodDetAttrValue'] | //div[@id='productOverview_feature_div']//tr[.//span[contains(., 'Number of Handles')]]//td[2]\" ),\n",
    "                # \"Included Components\": get_element_text(driver, \"//div[@id='prodDetails']//th[normalize-space(.)='Included Components']/following-sibling::td[@class='a-size-base prodDetAttrValue'] | //div[@id='productOverview_feature_div']//tr[.//span[contains(., 'Included Components')]]//td[2]\" ),\n",
    "                # \"Hole Count\": get_element_text(driver, \"//div[@id='prodDetails']//th[normalize-space(.)='Hole Count']/following-sibling::td[@class='a-size-base prodDetAttrValue'] | //div[@id='productOverview_feature_div']//tr[.//span[contains(., 'Hole Count')]]//td[2]\" ),\n",
    "                # \"Special Feature\": get_element_text(driver, \"//div[@id='prodDetails']//th[normalize-space(.)='Special Feature']/following-sibling::td[@class='a-size-base prodDetAttrValue'] | //div[@id='productOverview_feature_div']//tr[.//span[contains(., 'Special Feature')]]//td[2]\" ),\n",
    "                # \"Style\": get_element_text(driver, \"//div[@id='prodDetails']//th[normalize-space(.)='Style']/following-sibling::td[@class='a-size-base prodDetAttrValue'] | //div[@id='productOverview_feature_div']//tr[.//span[contains(., 'Style')]]//td[2] | //span[@id='inline-twister-expanded-dimension-text-style_name']\"),\n",
    "                # \"Installation Type\": get_element_text(driver, \"//div[@id='prodDetails']//th[normalize-space(.)='Installation Type']/following-sibling::td[@class='a-size-base prodDetAttrValue'] | //div[@id='productOverview_feature_div']//tr[.//span[contains(., 'Installation Type')]]//td[2]\" ),\n",
    "                # \"Number of Pieces\": get_element_text(driver, \"//div[@id='prodDetails']//th[normalize-space(.)='Number of Pieces']/following-sibling::td[@class='a-size-base prodDetAttrValue'] | //div[@id='productOverview_feature_div']//tr[.//span[contains(., 'Number of Pieces')]]//td[2]\" ),\n",
    "                # \"Handle Material\": get_element_text(driver, \"//div[@id='prodDetails']//th[normalize-space(.)='Handle Material']/following-sibling::td[@class='a-size-base prodDetAttrValue'] | //div[@id='productOverview_feature_div']//tr[.//span[contains(., 'Handle Material')]]//td[2]\" ),\n",
    "                # \"Spout Height\": get_element_text(driver, \"//div[@id='prodDetails']//th[normalize-space(.)='Spout Height']/following-sibling::td[@class='a-size-base prodDetAttrValue'] | //div[@id='productOverview_feature_div']//tr[.//span[contains(., 'Spout Height')]]//td[2]\" ),\n",
    "                # \"Spout Reach\": get_element_text(driver, \"//div[@id='prodDetails']//th[normalize-space(.)='Spout Reach']/following-sibling::td[@class='a-size-base prodDetAttrValue'] | //div[@id='productOverview_feature_div']//tr[.//span[contains(., 'Spout Reach')]]//td[2]\" ),\n",
    "                # \"Item Weight\": get_element_text(driver, \"//div[@id='prodDetails']//th[normalize-space(.)='Item Weight'][1]/following-sibling::td[@class='a-size-base prodDetAttrValue'] | //div[@id='productOverview_feature_div']//tr[.//span[contains(., 'Item Weight')]]//td[2]\" ),\n",
    "                # \"Series ID\": get_element_text(driver, \"//div[@id='prodDetails']//th[normalize-space(.)='Series ID']/following-sibling::td[@class='a-size-base prodDetAttrValue'] | //div[@id='productOverview_feature_div']//tr[.//span[contains(., 'Series ID')]]//td[2]\" ),\n",
    "                # \"Warranty Type\": get_element_text(driver, \"//div[@id='prodDetails']//th[normalize-space(.)='Warranty Type']/following-sibling::td[@class='a-size-base prodDetAttrValue'] | //div[@id='productOverview_feature_div']//tr[.//span[contains(., 'Warranty Type')]]//td[2]\" ),\n",
    "                # \"Handle Location\": get_element_text(driver, \"//div[@id='prodDetails']//th[normalize-space(.)='Handle Location']/following-sibling::td[@class='a-size-base prodDetAttrValue'] | //div[@id='productOverview_feature_div']//tr[.//span[contains(., 'Handle Location')]]//td[2]\" ),\n",
    "                # \"Speaker Cutout Diameter or Length\": get_element_text(driver, \"//div[@id='prodDetails']//th[normalize-space(.)='Speaker Cutout Diameter or Length']/following-sibling::td[@class='a-size-base prodDetAttrValue'] | //div[@id='productOverview_feature_div']//tr[.//span[contains(., 'Speaker Cutout Diameter or Length')]]//td[2]\" ),\n",
    "                # \"Spout Design\": get_element_text(driver, \"//div[@id='prodDetails']//th[normalize-space(.)='Spout Design']/following-sibling::td[@class='a-size-base prodDetAttrValue'] | //div[@id='productOverview_feature_div']//tr[.//span[contains(., 'Spout Design')]]//td[2]\" ),\n",
    "                # \"Manufacturer\": get_element_text(driver, \"//span[contains(@class, 'a-text-bold') and contains(., 'Manufacturer') and not(contains(., 'Discontinued'))]/following-sibling::*[1] | //div[@id='prodDetails']//th[normalize-space(.)='Manufacturer']/following-sibling::td[@class='a-size-base prodDetAttrValue'] | //div[@id='productOverview_feature_div']//tr[.//span[contains(., 'Manufacturer')]]//td[2]\" ),            \n",
    "                # \"Product Dimensions\": get_element_text(driver, \"//div[@id='detailBulletsWrapper_feature_div']//span[contains(@class, 'a-text-bold') and contains(., 'Product Dimensions')]/following-sibling::span | //div[@id='prodDetails']//th[normalize-space(.)='Product Dimensions']/following-sibling::td[@class='a-size-base prodDetAttrValue'] | //div[@id='productOverview_feature_div']//tr[.//span[contains(., 'Product Dimensions')]]//td[2]\" ),\n",
    "                # \"Part Number\": get_element_text(driver, \"//div[@id='prodDetails']//th[normalize-space(.)='Part Number']/following-sibling::td[@class='a-size-base prodDetAttrValue'] | //div[@id='productOverview_feature_div']//tr[.//span[contains(., 'Part Number')]]//td[2]\" ),\n",
    "                # \"Item model number\": get_element_text(driver, \"//div[@id='prodDetails']//th[normalize-space(.)='Item model number']/following-sibling::td[@class='a-size-base prodDetAttrValue'] | //div[@id='productOverview_feature_div']//tr[.//span[contains(., 'Item model number')]]//td[2]\" ),\n",
    "                # \"Is Discontinued By Manufacturer\": get_element_text(driver, \"//div[@id='prodDetails']//th[normalize-space(.)='Is Discontinued By Manufacturer']/following-sibling::td[@class='a-size-base prodDetAttrValue'] | //div[@id='productOverview_feature_div']//tr[.//span[contains(., 'Is Discontinued By Manufacturer')]]//td[2]\" ),\n",
    "                # \"Finish\": get_element_text(driver, \"//div[@id='prodDetails']//th[normalize-space(.)='Finish']/following-sibling::td[@class='a-size-base prodDetAttrValue'] | //div[@id='productOverview_feature_div']//tr[.//span[contains(., 'Finish')]]//td[2]\" ),\n",
    "                # \"Pattern\": get_element_text(driver, \"//div[@id='prodDetails']//th[normalize-space(.)='Pattern']/following-sibling::td[@class='a-size-base prodDetAttrValue'] | //div[@id='productOverview_feature_div']//tr[.//span[contains(., 'Pattern')]]//td[2]\" ),\n",
    "                # \"Shape\": get_element_text(driver, \"//div[@id='prodDetails']//th[normalize-space(.)='Shape']/following-sibling::td[@class='a-size-base prodDetAttrValue'] | //div[@id='productOverview_feature_div']//tr[.//span[contains(., 'Shape')]]//td[2]\" ),\n",
    "                # \"Item Package Quantity\": get_element_text(driver, \"//div[@id='prodDetails']//th[normalize-space(.)='Item Package Quantity']/following-sibling::td[@class='a-size-base prodDetAttrValue'] | //div[@id='productOverview_feature_div']//tr[.//span[contains(., 'Item Package Quantity')]]//td[2]\" ),\n",
    "                # \"Hose Length\": get_element_text(driver, \"//div[@id='prodDetails']//th[normalize-space(.)='Hose Length']/following-sibling::td[@class='a-size-base prodDetAttrValue'] | //div[@id='productOverview_feature_div']//tr[.//span[contains(., 'Hose Length')]]//td[2]\" ),\n",
    "                # \"Flush Type\": get_element_text(driver, \"//div[@id='prodDetails']//th[normalize-space(.)='Flush Type']/following-sibling::td[@class='a-size-base prodDetAttrValue'] | //div[@id='productOverview_feature_div']//tr[.//span[contains(., 'Flush Type')]]//td[2]\" ),\n",
    "                # \"Special Features\": get_element_text(driver, \"//div[@id='prodDetails']//th[normalize-space(.)='Special Features']/following-sibling::td[@class='a-size-base prodDetAttrValue'] | //div[@id='productOverview_feature_div']//tr[.//span[contains(., 'Special Features')]]//td[2]\" ),\n",
    "                # \"Batteries Included?\": get_element_text(driver, \"//div[@id='prodDetails']//th[normalize-space(.)='Batteries Included?']/following-sibling::td[@class='a-size-base prodDetAttrValue'] | //div[@id='productOverview_feature_div']//tr[.//span[contains(., 'Batteries Included?')]]//td[2]\" ),\n",
    "                # \"Batteries Required?\": get_element_text(driver, \"//div[@id='prodDetails']//th[normalize-space(.)='Batteries Required?']/following-sibling::td[@class='a-size-base prodDetAttrValue'] | //div[@id='productOverview_feature_div']//tr[.//span[contains(., 'Batteries Required?')]]//td[2]\" ),\n",
    "                # \"Warranty Description\": get_element_text(driver, \"//div[@id='prodDetails']//th[normalize-space(.)='Warranty Description']/following-sibling::td[@class='a-size-base prodDetAttrValue'] | //div[@id='productOverview_feature_div']//tr[.//span[contains(., 'Warranty Description')]]//td[2]\" ),\n",
    "                \"ASIN\": get_element_text(driver, \"//div[@id='detailBulletsWrapper_feature_div']//span[contains(@class, 'a-text-bold') and contains(., 'ASIN')]/following-sibling::span | //div[@id='prodDetails']//th[normalize-space(.)='ASIN']/following-sibling::td[@class='a-size-base prodDetAttrValue'] | //div[@id='productOverview_feature_div']//tr[.//span[contains(., 'ASIN')]]//td[2]\" ),\n",
    "                \"rating\": get_element_text(driver, \"//*[@id='acrPopover']/span[1]/a/span\"),\n",
    "                \"Reviews Count\": get_element_text(driver, \"//span[@id='acrCustomerReviewText']\"),\n",
    "                \"5 star\": get_element_text_css(driver, \"#histogramTable li:nth-child(1) .a-text-right.aok-nowrap\"),\n",
    "                \"4 star\": get_element_text_css(driver, \"#histogramTable li:nth-child(2) .a-text-right.aok-nowrap\"),\n",
    "                \"3 star\": get_element_text_css(driver, \"#histogramTable li:nth-child(3) .a-text-right.aok-nowrap\"),\n",
    "                \"2 star\": get_element_text_css(driver, \"#histogramTable li:nth-child(4) .a-text-right.aok-nowrap\"),\n",
    "                \"1 star\": get_element_text_css(driver, \"#histogramTable li:nth-child(5) .a-text-right.aok-nowrap\"),\n",
    "                \"Best Sellers Rank\": get_element_text(driver, \"//div[@id='detailBulletsWrapper_feature_div']//li[.//span[contains(@class, 'a-text-bold') and contains(., 'Best Sellers Rank')]]//span[@class='a-list-item'] | //div[@id='prodDetails']//th[normalize-space(.)='Best Sellers Rank']/following-sibling::td//span[@class='a-list-item']\"),\n",
    "                \"Date First Available\": get_element_text(driver, \"//div[@id='detailBulletsWrapper_feature_div']//span[contains(@class, 'a-text-bold') and contains(., 'Date First Available')]/following-sibling::span | //div[@id='prodDetails']//th[normalize-space(.)='Date First Available']/following-sibling::td[@class='a-size-base prodDetAttrValue']\"),\n",
    "                \"link\": link\n",
    "            }\n",
    "    \n",
    "            product_list.append(product_info)\n",
    "            time.sleep(1)        \n",
    "     \n",
    "    browser.get(f\"https://www.amazon.com/s?k=travel&page={n}\") \n",
    "    time.sleep(0.7)"
   ]
  },
  {
   "cell_type": "code",
   "execution_count": 37,
   "id": "e667262b-50c5-4b57-9324-ae832162cda6",
   "metadata": {},
   "outputs": [],
   "source": [
    "df = pd.DataFrame(product_list)\n",
    "# print(\"product_list\")"
   ]
  },
  {
   "cell_type": "code",
   "execution_count": 38,
   "id": "e51f3e8d-2b1f-4026-a37f-e3ea440010f4",
   "metadata": {
    "scrolled": true
   },
   "outputs": [
    {
     "data": {
      "text/html": [
       "<div>\n",
       "<style scoped>\n",
       "    .dataframe tbody tr th:only-of-type {\n",
       "        vertical-align: middle;\n",
       "    }\n",
       "\n",
       "    .dataframe tbody tr th {\n",
       "        vertical-align: top;\n",
       "    }\n",
       "\n",
       "    .dataframe thead th {\n",
       "        text-align: right;\n",
       "    }\n",
       "</style>\n",
       "<table border=\"1\" class=\"dataframe\">\n",
       "  <thead>\n",
       "    <tr style=\"text-align: right;\">\n",
       "      <th></th>\n",
       "    </tr>\n",
       "  </thead>\n",
       "  <tbody>\n",
       "  </tbody>\n",
       "</table>\n",
       "</div>"
      ],
      "text/plain": [
       "Empty DataFrame\n",
       "Columns: []\n",
       "Index: []"
      ]
     },
     "execution_count": 38,
     "metadata": {},
     "output_type": "execute_result"
    }
   ],
   "source": [
    "df.head(1000)"
   ]
  },
  {
   "cell_type": "code",
   "execution_count": 147,
   "id": "898b682d-b2f3-4d2b-9ee1-ce2e558a9e5a",
   "metadata": {},
   "outputs": [
    {
     "name": "stdout",
     "output_type": "stream",
     "text": [
      "Data saved to appartements.csv\n"
     ]
    }
   ],
   "source": [
    "df.to_csv('products.csv', index=False)\n",
    "print(\"Data saved to appartements.csv\")\n",
    "browser.quit()"
   ]
  },
  {
   "cell_type": "code",
   "execution_count": 11,
   "id": "d8d9b789-50e3-4462-8a39-ea4116f23fa1",
   "metadata": {},
   "outputs": [],
   "source": [
    "ss.to_csv('test_see_columns.csv', index=False)"
   ]
  },
  {
   "cell_type": "code",
   "execution_count": 10,
   "id": "1517f904-afcf-4e07-a09f-96133347e70f",
   "metadata": {},
   "outputs": [],
   "source": [
    "ss = df[[\"name\",\"Brand\",\"price\",\"rating\",\"Reviews Count\",\"Recommended Uses For Product\",\"Material\",\"Style\",\"Color\",\"ASIN\",\"5 star\",\"4 star\",\"3 star\",\"2 star\",\"1 star\", \"Finish Type\", \"Warranty Type\", \"Best Sellers Rank\", \"past month\", \"Date First Available\",\"link\"]]\n",
    "# [df.columns.get_loc('Manufacturer'), df.columns.get_loc('link'), df.columns.get_loc('Product Dimensions')]]\n"
   ]
  },
  {
   "cell_type": "code",
   "execution_count": 35,
   "id": "2938d306-adbc-4542-b034-56262f53ced5",
   "metadata": {},
   "outputs": [
    {
     "name": "stdout",
     "output_type": "stream",
     "text": [
      "2\n"
     ]
    }
   ],
   "source": [
    "print(2)"
   ]
  },
  {
   "cell_type": "code",
   "execution_count": 82,
   "id": "421ce36e-9956-40c1-b1f8-f7be150455c4",
   "metadata": {},
   "outputs": [
    {
     "name": "stdout",
     "output_type": "stream",
     "text": [
      "OK 200 {\n",
      "  \"origin\": \"142.111.48.253\"\n",
      "}\n",
      "\n",
      "OK 200 {\n",
      "  \"origin\": \"31.59.20.176\"\n",
      "}\n",
      "\n",
      "OK 200 {\n",
      "  \"origin\": \"38.170.176.177\"\n",
      "}\n",
      "\n",
      "OK 200 {\n",
      "  \"origin\": \"198.23.239.134\"\n",
      "}\n",
      "\n",
      "OK 200 {\n",
      "  \"origin\": \"45.38.107.97\"\n",
      "}\n",
      "\n",
      "OK 200 {\n",
      "  \"origin\": \"142.111.67.146\"\n",
      "}\n",
      "\n",
      "OK 200 {\n",
      "  \"origin\": \"107.172.163.27\"\n",
      "}\n",
      "\n",
      "OK 200 {\n",
      "  \"origin\": \"64.137.96.74\"\n",
      "}\n",
      "\n",
      "OK 200 {\n",
      "  \"origin\": \"216.10.27.159\"\n",
      "}\n",
      "\n",
      "OK 200 {\n",
      "  \"origin\": \"142.147.128.93\"\n",
      "}\n",
      "\n"
     ]
    }
   ],
   "source": [
    "import requests\n",
    "\n",
    "proxy = \"user:pass@142.111.48.253:7030\"\n",
    "for proxy in PROXY_LIST:\n",
    "    if not proxy.startswith(\"http\"):\n",
    "        proxy = \"http://\" + proxy\n",
    "\n",
    "    proxies = {\"http\": proxy, \"https\": proxy}\n",
    "\n",
    "    try:\n",
    "        r = requests.get(\"https://httpbin.org/ip\", proxies=proxies, timeout=10)\n",
    "        print(\"OK\", r.status_code, r.text)\n",
    "    except Exception as e:\n",
    "        print(\"Proxy test failed:\", e)\n"
   ]
  },
  {
   "cell_type": "code",
   "execution_count": null,
   "id": "cd047f86-9867-48ac-a299-180831fa55e8",
   "metadata": {},
   "outputs": [],
   "source": [
    "print(5)"
   ]
  },
  {
   "cell_type": "code",
   "execution_count": null,
   "id": "aeb90356-133a-4ff8-87c8-c7e53b201a0e",
   "metadata": {},
   "outputs": [],
   "source": []
  },
  {
   "cell_type": "code",
   "execution_count": null,
   "id": "9c46810a-afeb-413b-b3cf-887c4fd0cb91",
   "metadata": {},
   "outputs": [],
   "source": []
  },
  {
   "cell_type": "code",
   "execution_count": null,
   "id": "3dc962a8-7d2d-444a-8264-26e856342953",
   "metadata": {},
   "outputs": [],
   "source": [
    "pip install selenium webdriver-manager proxy.py"
   ]
  },
  {
   "cell_type": "code",
   "execution_count": null,
   "id": "b014d3eb-3ada-41f9-b8a0-b71355f59102",
   "metadata": {},
   "outputs": [],
   "source": []
  },
  {
   "cell_type": "code",
   "execution_count": null,
   "id": "783484c8-1e18-4702-b398-6d7ee7227e33",
   "metadata": {},
   "outputs": [],
   "source": []
  },
  {
   "cell_type": "code",
   "execution_count": 94,
   "id": "d79e4668-0877-49a1-9c4b-e2caf80c25f8",
   "metadata": {},
   "outputs": [
    {
     "ename": "NoSuchDriverException",
     "evalue": "Message: Unable to obtain driver for chrome; For documentation on this error, please visit: https://www.selenium.dev/documentation/webdriver/troubleshooting/errors/driver_location\n",
     "output_type": "error",
     "traceback": [
      "\u001b[31m---------------------------------------------------------------------------\u001b[39m",
      "\u001b[31mValueError\u001b[39m                                Traceback (most recent call last)",
      "\u001b[36mFile \u001b[39m\u001b[32m/mnt/c/Users/Mohamed/Desktop/Nouveau projet/venv/lib/python3.12/site-packages/selenium/webdriver/common/driver_finder.py:64\u001b[39m, in \u001b[36mDriverFinder._binary_paths\u001b[39m\u001b[34m(self)\u001b[39m\n\u001b[32m     63\u001b[39m \u001b[38;5;28;01mif\u001b[39;00m \u001b[38;5;129;01mnot\u001b[39;00m Path(path).is_file():\n\u001b[32m---> \u001b[39m\u001b[32m64\u001b[39m     \u001b[38;5;28;01mraise\u001b[39;00m \u001b[38;5;167;01mValueError\u001b[39;00m(\u001b[33mf\u001b[39m\u001b[33m\"\u001b[39m\u001b[33mThe path is not a valid file: \u001b[39m\u001b[38;5;132;01m{\u001b[39;00mpath\u001b[38;5;132;01m}\u001b[39;00m\u001b[33m\"\u001b[39m)\n\u001b[32m     65\u001b[39m \u001b[38;5;28mself\u001b[39m._paths[\u001b[33m\"\u001b[39m\u001b[33mdriver_path\u001b[39m\u001b[33m\"\u001b[39m] = path\n",
      "\u001b[31mValueError\u001b[39m: The path is not a valid file: /usr/local/bin/chromedriver",
      "\nThe above exception was the direct cause of the following exception:\n",
      "\u001b[31mNoSuchDriverException\u001b[39m                     Traceback (most recent call last)",
      "\u001b[36mCell\u001b[39m\u001b[36m \u001b[39m\u001b[32mIn[94]\u001b[39m\u001b[32m, line 20\u001b[39m\n\u001b[32m     18\u001b[39m \u001b[38;5;66;03m# Initialize ChromeDriver\u001b[39;00m\n\u001b[32m     19\u001b[39m service = Service(chrome_driver_path)\n\u001b[32m---> \u001b[39m\u001b[32m20\u001b[39m driver = \u001b[43mwebdriver\u001b[49m\u001b[43m.\u001b[49m\u001b[43mChrome\u001b[49m\u001b[43m(\u001b[49m\u001b[43mservice\u001b[49m\u001b[43m=\u001b[49m\u001b[43mservice\u001b[49m\u001b[43m,\u001b[49m\u001b[43m \u001b[49m\u001b[43moptions\u001b[49m\u001b[43m=\u001b[49m\u001b[43moptions\u001b[49m\u001b[43m)\u001b[49m\n\u001b[32m     22\u001b[39m \u001b[38;5;66;03m# Test the proxy\u001b[39;00m\n\u001b[32m     23\u001b[39m driver.get(\u001b[33m\"\u001b[39m\u001b[33mhttps://api.ipify.org\u001b[39m\u001b[33m\"\u001b[39m)\n",
      "\u001b[36mFile \u001b[39m\u001b[32m/mnt/c/Users/Mohamed/Desktop/Nouveau projet/venv/lib/python3.12/site-packages/selenium/webdriver/chrome/webdriver.py:46\u001b[39m, in \u001b[36mWebDriver.__init__\u001b[39m\u001b[34m(self, options, service, keep_alive)\u001b[39m\n\u001b[32m     43\u001b[39m service = service \u001b[38;5;28;01mif\u001b[39;00m service \u001b[38;5;28;01melse\u001b[39;00m Service()\n\u001b[32m     44\u001b[39m options = options \u001b[38;5;28;01mif\u001b[39;00m options \u001b[38;5;28;01melse\u001b[39;00m Options()\n\u001b[32m---> \u001b[39m\u001b[32m46\u001b[39m \u001b[38;5;28;43msuper\u001b[39;49m\u001b[43m(\u001b[49m\u001b[43m)\u001b[49m\u001b[43m.\u001b[49m\u001b[34;43m__init__\u001b[39;49m\u001b[43m(\u001b[49m\n\u001b[32m     47\u001b[39m \u001b[43m    \u001b[49m\u001b[43mbrowser_name\u001b[49m\u001b[43m=\u001b[49m\u001b[43mDesiredCapabilities\u001b[49m\u001b[43m.\u001b[49m\u001b[43mCHROME\u001b[49m\u001b[43m[\u001b[49m\u001b[33;43m\"\u001b[39;49m\u001b[33;43mbrowserName\u001b[39;49m\u001b[33;43m\"\u001b[39;49m\u001b[43m]\u001b[49m\u001b[43m,\u001b[49m\n\u001b[32m     48\u001b[39m \u001b[43m    \u001b[49m\u001b[43mvendor_prefix\u001b[49m\u001b[43m=\u001b[49m\u001b[33;43m\"\u001b[39;49m\u001b[33;43mgoog\u001b[39;49m\u001b[33;43m\"\u001b[39;49m\u001b[43m,\u001b[49m\n\u001b[32m     49\u001b[39m \u001b[43m    \u001b[49m\u001b[43moptions\u001b[49m\u001b[43m=\u001b[49m\u001b[43moptions\u001b[49m\u001b[43m,\u001b[49m\n\u001b[32m     50\u001b[39m \u001b[43m    \u001b[49m\u001b[43mservice\u001b[49m\u001b[43m=\u001b[49m\u001b[43mservice\u001b[49m\u001b[43m,\u001b[49m\n\u001b[32m     51\u001b[39m \u001b[43m    \u001b[49m\u001b[43mkeep_alive\u001b[49m\u001b[43m=\u001b[49m\u001b[43mkeep_alive\u001b[49m\u001b[43m,\u001b[49m\n\u001b[32m     52\u001b[39m \u001b[43m\u001b[49m\u001b[43m)\u001b[49m\n",
      "\u001b[36mFile \u001b[39m\u001b[32m/mnt/c/Users/Mohamed/Desktop/Nouveau projet/venv/lib/python3.12/site-packages/selenium/webdriver/chromium/webdriver.py:55\u001b[39m, in \u001b[36mChromiumDriver.__init__\u001b[39m\u001b[34m(self, browser_name, vendor_prefix, options, service, keep_alive)\u001b[39m\n\u001b[32m     52\u001b[39m options = options \u001b[38;5;28;01mif\u001b[39;00m options \u001b[38;5;28;01melse\u001b[39;00m ChromiumOptions()\n\u001b[32m     54\u001b[39m finder = DriverFinder(\u001b[38;5;28mself\u001b[39m.service, options)\n\u001b[32m---> \u001b[39m\u001b[32m55\u001b[39m \u001b[38;5;28;01mif\u001b[39;00m \u001b[43mfinder\u001b[49m\u001b[43m.\u001b[49m\u001b[43mget_browser_path\u001b[49m\u001b[43m(\u001b[49m\u001b[43m)\u001b[49m:\n\u001b[32m     56\u001b[39m     options.binary_location = finder.get_browser_path()\n\u001b[32m     57\u001b[39m     options.browser_version = \u001b[38;5;28;01mNone\u001b[39;00m\n",
      "\u001b[36mFile \u001b[39m\u001b[32m/mnt/c/Users/Mohamed/Desktop/Nouveau projet/venv/lib/python3.12/site-packages/selenium/webdriver/common/driver_finder.py:47\u001b[39m, in \u001b[36mDriverFinder.get_browser_path\u001b[39m\u001b[34m(self)\u001b[39m\n\u001b[32m     46\u001b[39m \u001b[38;5;28;01mdef\u001b[39;00m\u001b[38;5;250m \u001b[39m\u001b[34mget_browser_path\u001b[39m(\u001b[38;5;28mself\u001b[39m) -> \u001b[38;5;28mstr\u001b[39m:\n\u001b[32m---> \u001b[39m\u001b[32m47\u001b[39m     \u001b[38;5;28;01mreturn\u001b[39;00m \u001b[38;5;28;43mself\u001b[39;49m\u001b[43m.\u001b[49m\u001b[43m_binary_paths\u001b[49m\u001b[43m(\u001b[49m\u001b[43m)\u001b[49m[\u001b[33m\"\u001b[39m\u001b[33mbrowser_path\u001b[39m\u001b[33m\"\u001b[39m]\n",
      "\u001b[36mFile \u001b[39m\u001b[32m/mnt/c/Users/Mohamed/Desktop/Nouveau projet/venv/lib/python3.12/site-packages/selenium/webdriver/common/driver_finder.py:78\u001b[39m, in \u001b[36mDriverFinder._binary_paths\u001b[39m\u001b[34m(self)\u001b[39m\n\u001b[32m     76\u001b[39m \u001b[38;5;28;01mexcept\u001b[39;00m \u001b[38;5;167;01mException\u001b[39;00m \u001b[38;5;28;01mas\u001b[39;00m err:\n\u001b[32m     77\u001b[39m     msg = \u001b[33mf\u001b[39m\u001b[33m\"\u001b[39m\u001b[33mUnable to obtain driver for \u001b[39m\u001b[38;5;132;01m{\u001b[39;00mbrowser\u001b[38;5;132;01m}\u001b[39;00m\u001b[33m\"\u001b[39m\n\u001b[32m---> \u001b[39m\u001b[32m78\u001b[39m     \u001b[38;5;28;01mraise\u001b[39;00m NoSuchDriverException(msg) \u001b[38;5;28;01mfrom\u001b[39;00m\u001b[38;5;250m \u001b[39m\u001b[34;01merr\u001b[39;00m\n\u001b[32m     79\u001b[39m \u001b[38;5;28;01mreturn\u001b[39;00m \u001b[38;5;28mself\u001b[39m._paths\n",
      "\u001b[31mNoSuchDriverException\u001b[39m: Message: Unable to obtain driver for chrome; For documentation on this error, please visit: https://www.selenium.dev/documentation/webdriver/troubleshooting/errors/driver_location\n"
     ]
    }
   ],
   "source": [
    "from selenium import webdriver\n",
    "from selenium.webdriver.chrome.service import Service\n",
    "\n",
    "# Specify the path to ChromeDriver\n",
    "chrome_driver_path = \"/usr/local/bin/chromedriver\"  # Adjust if needed\n",
    "proxy = \"username:password@proxy_host:proxy_port\"\n",
    "\n",
    "# Set up Chrome options\n",
    "options = webdriver.ChromeOptions()\n",
    "options.add_argument(f'--proxy-server=http://{proxy}')\n",
    "# Optional: Specify Chrome binary location if not in default path\n",
    "options.binary_location = \"/usr/bin/google-chrome\"  # Adjust if Chrome is elsewhere\n",
    "# Optional: Run headless to avoid opening a browser window\n",
    "options.add_argument('--headless')\n",
    "options.add_argument('--no-sandbox')  # Required for WSL/Linux environments\n",
    "options.add_argument('--disable-dev-shm-usage')  # Avoids issues in WSL\n",
    "\n",
    "# Initialize ChromeDriver\n",
    "service = Service(chrome_driver_path)\n",
    "driver = webdriver.Chrome(service=service, options=options)\n",
    "\n",
    "# Test the proxy\n",
    "driver.get(\"https://api.ipify.org\")\n",
    "print(driver.page_source)  # Should print the proxy IP\n",
    "driver.get(\"https://whatismyipaddress.com\")\n",
    "\n",
    "# Clean up\n",
    "driver.quit()"
   ]
  },
  {
   "cell_type": "code",
   "execution_count": 102,
   "id": "3d4a0ccd-8530-4aab-9133-4771a0c6cf82",
   "metadata": {},
   "outputs": [
    {
     "name": "stdout",
     "output_type": "stream",
     "text": [
      "Chrome binary exists: True\n",
      "ChromeDriver exists: True\n",
      "Error: Message: session not created\n",
      "from unknown error: no chrome binary at /opt/google/chrome/google-chrome; For documentation on this error, please visit: https://www.selenium.dev/documentation/webdriver/troubleshooting/errors#sessionnotcreatedexception\n",
      "Stacktrace:\n",
      "#0 0x628a5ab1a95a <unknown>\n",
      "#1 0x628a5a5bb536 <unknown>\n",
      "#2 0x628a5a5f2ea3 <unknown>\n",
      "#3 0x628a5a5f1cdf <unknown>\n",
      "#4 0x628a5a640fa9 <unknown>\n",
      "#5 0x628a5a6406b6 <unknown>\n",
      "#6 0x628a5a6324f3 <unknown>\n",
      "#7 0x628a5a5fe9c8 <unknown>\n",
      "#8 0x628a5a5ff661 <unknown>\n",
      "#9 0x628a5aadf8df <unknown>\n",
      "#10 0x628a5aae3a28 <unknown>\n",
      "#11 0x628a5aac699c <unknown>\n",
      "#12 0x628a5aae41ee <unknown>\n",
      "#13 0x628a5aaae52e <unknown>\n",
      "#14 0x628a5ab07be8 <unknown>\n",
      "#15 0x628a5ab07dff <unknown>\n",
      "#16 0x628a5ab1944c <unknown>\n",
      "#17 0x7b184f494ac3 <unknown>\n",
      "\n"
     ]
    }
   ],
   "source": [
    "from selenium import webdriver\n",
    "from selenium.webdriver.chrome.service import Service\n",
    "from selenium.webdriver.chrome.options import Options\n",
    "import os\n",
    "\n",
    "# Proxy details (replace with your actual proxy)\n",
    "proxy = \"hppimpgq:fwqss0z8ktob@142.111.48.253:7030\"\n",
    "\n",
    "# Set up Chrome options\n",
    "options = Options()\n",
    "options.add_argument(f'--proxy-server=http://{proxy}')\n",
    "options.add_argument('--headless=new')  # New headless mode for Chrome 141+\n",
    "options.add_argument('--no-sandbox')  # Required for WSL\n",
    "options.add_argument('--disable-dev-shm-usage')  # Avoid shared memory issues\n",
    "options.add_argument('--disable-gpu')  # Disable GPU\n",
    "options.add_argument('--disable-webrtc')  # Prevent WebRTC leaks\n",
    "options.add_argument('--ignore-certificate-errors')  # Handle proxy SSL issues\n",
    "options.binary_location = \"/opt/google/chrome/google-chrome\"  # Real binary path (not the wrapper script)\n",
    "\n",
    "# Set up ChromeDriver path\n",
    "chrome_driver_path = \"/usr/bin/chromedriver\"\n",
    "\n",
    "# Verify paths\n",
    "print(f\"Chrome binary exists: {os.path.exists('/opt/google/chrome/google-chrome')}\")\n",
    "print(f\"ChromeDriver exists: {os.path.exists('/usr/bin/chromedriver')}\")\n",
    "\n",
    "# Initialize ChromeDriver\n",
    "service = Service(chrome_driver_path, log_path=\"chromedriver.log\")\n",
    "driver = None\n",
    "try:\n",
    "    driver = webdriver.Chrome(service=service, options=options)\n",
    "    print(\"Selenium session created successfully\")\n",
    "    # Test proxy\n",
    "    driver.get(\"https://api.ipify.org\")\n",
    "    ip = driver.page_source\n",
    "    print(f\"Your IP: {ip}\")\n",
    "    driver.get(\"https://whatismyipaddress.com\")\n",
    "    driver.save_screenshot(\"ip_check.png\")\n",
    "    print(\"Screenshot saved as ip_check.png\")\n",
    "except Exception as e:\n",
    "    print(f\"Error: {e}\")\n",
    "finally:\n",
    "    if driver:\n",
    "        driver.quit()"
   ]
  },
  {
   "cell_type": "code",
   "execution_count": 100,
   "id": "217dee2e-d24f-4cb4-a865-4515cf6436a8",
   "metadata": {},
   "outputs": [
    {
     "name": "stdout",
     "output_type": "stream",
     "text": [
      "/usr/bin/google-chrome\n"
     ]
    }
   ],
   "source": [
    "!which google-chrome"
   ]
  },
  {
   "cell_type": "code",
   "execution_count": 97,
   "id": "f4867f6b-0ec1-4623-82a4-e9c67d4417db",
   "metadata": {},
   "outputs": [
    {
     "ename": "SyntaxError",
     "evalue": "invalid syntax (410401063.py, line 1)",
     "output_type": "error",
     "traceback": [
      "  \u001b[36mCell\u001b[39m\u001b[36m \u001b[39m\u001b[32mIn[97]\u001b[39m\u001b[32m, line 1\u001b[39m\n\u001b[31m    \u001b[39m\u001b[31mwhich chromedriver\u001b[39m\n          ^\n\u001b[31mSyntaxError\u001b[39m\u001b[31m:\u001b[39m invalid syntax\n"
     ]
    }
   ],
   "source": []
  },
  {
   "cell_type": "code",
   "execution_count": null,
   "id": "4c7cf6d4-3600-470c-b593-97dd305bef21",
   "metadata": {},
   "outputs": [],
   "source": []
  }
 ],
 "metadata": {
  "kernelspec": {
   "display_name": "Python 3 (ipykernel)",
   "language": "python",
   "name": "python3"
  },
  "language_info": {
   "codemirror_mode": {
    "name": "ipython",
    "version": 3
   },
   "file_extension": ".py",
   "mimetype": "text/x-python",
   "name": "python",
   "nbconvert_exporter": "python",
   "pygments_lexer": "ipython3",
   "version": "3.12.3"
  }
 },
 "nbformat": 4,
 "nbformat_minor": 5
}
