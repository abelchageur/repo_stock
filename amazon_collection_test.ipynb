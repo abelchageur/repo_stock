{
 "cells": [
  {
   "cell_type": "code",
   "execution_count": 10,
   "id": "6b27b995-b34a-4df5-90c9-cc6edaaa6f74",
   "metadata": {},
   "outputs": [
    {
     "ename": "ModuleNotFoundError",
     "evalue": "No module named 'seleniumwire'",
     "output_type": "error",
     "traceback": [
      "\u001b[31m---------------------------------------------------------------------------\u001b[39m",
      "\u001b[31mModuleNotFoundError\u001b[39m                       Traceback (most recent call last)",
      "\u001b[36mCell\u001b[39m\u001b[36m \u001b[39m\u001b[32mIn[10]\u001b[39m\u001b[32m, line 9\u001b[39m\n\u001b[32m      7\u001b[39m \u001b[38;5;28;01mimport\u001b[39;00m\u001b[38;5;250m \u001b[39m\u001b[34;01mpandas\u001b[39;00m\u001b[38;5;250m \u001b[39m\u001b[38;5;28;01mas\u001b[39;00m\u001b[38;5;250m \u001b[39m\u001b[34;01mpd\u001b[39;00m\n\u001b[32m      8\u001b[39m \u001b[38;5;28;01mimport\u001b[39;00m\u001b[38;5;250m \u001b[39m\u001b[34;01mtime\u001b[39;00m\n\u001b[32m----> \u001b[39m\u001b[32m9\u001b[39m \u001b[38;5;28;01mfrom\u001b[39;00m\u001b[38;5;250m \u001b[39m\u001b[34;01mseleniumwire\u001b[39;00m\u001b[38;5;250m \u001b[39m\u001b[38;5;28;01mimport\u001b[39;00m webdriver  \u001b[38;5;66;03m# use selenium-wire\u001b[39;00m\n\u001b[32m     10\u001b[39m \u001b[38;5;28;01mfrom\u001b[39;00m\u001b[38;5;250m \u001b[39m\u001b[34;01mselenium\u001b[39;00m\u001b[34;01m.\u001b[39;00m\u001b[34;01mwebdriver\u001b[39;00m\u001b[34;01m.\u001b[39;00m\u001b[34;01mchrome\u001b[39;00m\u001b[34;01m.\u001b[39;00m\u001b[34;01moptions\u001b[39;00m\u001b[38;5;250m \u001b[39m\u001b[38;5;28;01mimport\u001b[39;00m Options\n\u001b[32m     11\u001b[39m \u001b[38;5;28;01mfrom\u001b[39;00m\u001b[38;5;250m \u001b[39m\u001b[34;01mselenium\u001b[39;00m\u001b[34;01m.\u001b[39;00m\u001b[34;01mwebdriver\u001b[39;00m\u001b[34;01m.\u001b[39;00m\u001b[34;01mchrome\u001b[39;00m\u001b[34;01m.\u001b[39;00m\u001b[34;01mservice\u001b[39;00m\u001b[38;5;250m \u001b[39m\u001b[38;5;28;01mimport\u001b[39;00m Service\n",
      "\u001b[31mModuleNotFoundError\u001b[39m: No module named 'seleniumwire'"
     ]
    }
   ],
   "source": [
    "from selenium import webdriver\n",
    "from selenium.webdriver.common.by import By\n",
    "from selenium.common.exceptions import NoSuchElementException  \n",
    "from selenium.webdriver.support.ui import WebDriverWait\n",
    "from selenium.webdriver.support import expected_conditions as EC\n",
    "import numpy as np\n",
    "import pandas as pd\n",
    "import time\n"
   ]
  },
  {
   "cell_type": "code",
   "execution_count": 11,
   "id": "da8eef53-9c8d-4348-8884-4ef0d3ffbeb3",
   "metadata": {},
   "outputs": [
    {
     "ename": "WebDriverException",
     "evalue": "Message: Service /home/mohamed/.wdm/drivers/chromedriver/linux64/114.0.5735.90/chromedriver unexpectedly exited. Status code was: 127\n",
     "output_type": "error",
     "traceback": [
      "\u001b[31m---------------------------------------------------------------------------\u001b[39m",
      "\u001b[31mWebDriverException\u001b[39m                        Traceback (most recent call last)",
      "\u001b[36mCell\u001b[39m\u001b[36m \u001b[39m\u001b[32mIn[11]\u001b[39m\u001b[32m, line 11\u001b[39m\n\u001b[32m      8\u001b[39m options.add_argument(\u001b[33m\"\u001b[39m\u001b[33m--no-sandbox\u001b[39m\u001b[33m\"\u001b[39m)\n\u001b[32m      9\u001b[39m options.add_argument(\u001b[33m\"\u001b[39m\u001b[33m--disable-dev-shm-usage\u001b[39m\u001b[33m\"\u001b[39m)\n\u001b[32m---> \u001b[39m\u001b[32m11\u001b[39m driver = \u001b[43mwebdriver\u001b[49m\u001b[43m.\u001b[49m\u001b[43mChrome\u001b[49m\u001b[43m(\u001b[49m\n\u001b[32m     12\u001b[39m \u001b[43m    \u001b[49m\u001b[43mservice\u001b[49m\u001b[43m=\u001b[49m\u001b[43mService\u001b[49m\u001b[43m(\u001b[49m\u001b[43mChromeDriverManager\u001b[49m\u001b[43m(\u001b[49m\u001b[43m)\u001b[49m\u001b[43m.\u001b[49m\u001b[43minstall\u001b[49m\u001b[43m(\u001b[49m\u001b[43m)\u001b[49m\u001b[43m)\u001b[49m\u001b[43m,\u001b[49m\n\u001b[32m     13\u001b[39m \u001b[43m    \u001b[49m\u001b[43moptions\u001b[49m\u001b[43m=\u001b[49m\u001b[43moptions\u001b[49m\n\u001b[32m     14\u001b[39m \u001b[43m)\u001b[49m\n\u001b[32m     15\u001b[39m driver.get(\u001b[33m\"\u001b[39m\u001b[33mhttps://www.google.com\u001b[39m\u001b[33m\"\u001b[39m)\n\u001b[32m     16\u001b[39m \u001b[38;5;28mprint\u001b[39m(driver.title)\n",
      "\u001b[36mFile \u001b[39m\u001b[32m/mnt/c/Users/Mohamed/Desktop/Nouveau projet/venv/lib/python3.12/site-packages/selenium/webdriver/chrome/webdriver.py:46\u001b[39m, in \u001b[36mWebDriver.__init__\u001b[39m\u001b[34m(self, options, service, keep_alive)\u001b[39m\n\u001b[32m     43\u001b[39m service = service \u001b[38;5;28;01mif\u001b[39;00m service \u001b[38;5;28;01melse\u001b[39;00m Service()\n\u001b[32m     44\u001b[39m options = options \u001b[38;5;28;01mif\u001b[39;00m options \u001b[38;5;28;01melse\u001b[39;00m Options()\n\u001b[32m---> \u001b[39m\u001b[32m46\u001b[39m \u001b[38;5;28;43msuper\u001b[39;49m\u001b[43m(\u001b[49m\u001b[43m)\u001b[49m\u001b[43m.\u001b[49m\u001b[34;43m__init__\u001b[39;49m\u001b[43m(\u001b[49m\n\u001b[32m     47\u001b[39m \u001b[43m    \u001b[49m\u001b[43mbrowser_name\u001b[49m\u001b[43m=\u001b[49m\u001b[43mDesiredCapabilities\u001b[49m\u001b[43m.\u001b[49m\u001b[43mCHROME\u001b[49m\u001b[43m[\u001b[49m\u001b[33;43m\"\u001b[39;49m\u001b[33;43mbrowserName\u001b[39;49m\u001b[33;43m\"\u001b[39;49m\u001b[43m]\u001b[49m\u001b[43m,\u001b[49m\n\u001b[32m     48\u001b[39m \u001b[43m    \u001b[49m\u001b[43mvendor_prefix\u001b[49m\u001b[43m=\u001b[49m\u001b[33;43m\"\u001b[39;49m\u001b[33;43mgoog\u001b[39;49m\u001b[33;43m\"\u001b[39;49m\u001b[43m,\u001b[49m\n\u001b[32m     49\u001b[39m \u001b[43m    \u001b[49m\u001b[43moptions\u001b[49m\u001b[43m=\u001b[49m\u001b[43moptions\u001b[49m\u001b[43m,\u001b[49m\n\u001b[32m     50\u001b[39m \u001b[43m    \u001b[49m\u001b[43mservice\u001b[49m\u001b[43m=\u001b[49m\u001b[43mservice\u001b[49m\u001b[43m,\u001b[49m\n\u001b[32m     51\u001b[39m \u001b[43m    \u001b[49m\u001b[43mkeep_alive\u001b[49m\u001b[43m=\u001b[49m\u001b[43mkeep_alive\u001b[49m\u001b[43m,\u001b[49m\n\u001b[32m     52\u001b[39m \u001b[43m\u001b[49m\u001b[43m)\u001b[49m\n",
      "\u001b[36mFile \u001b[39m\u001b[32m/mnt/c/Users/Mohamed/Desktop/Nouveau projet/venv/lib/python3.12/site-packages/selenium/webdriver/chromium/webdriver.py:60\u001b[39m, in \u001b[36mChromiumDriver.__init__\u001b[39m\u001b[34m(self, browser_name, vendor_prefix, options, service, keep_alive)\u001b[39m\n\u001b[32m     57\u001b[39m     options.browser_version = \u001b[38;5;28;01mNone\u001b[39;00m\n\u001b[32m     59\u001b[39m \u001b[38;5;28mself\u001b[39m.service.path = \u001b[38;5;28mself\u001b[39m.service.env_path() \u001b[38;5;129;01mor\u001b[39;00m finder.get_driver_path()\n\u001b[32m---> \u001b[39m\u001b[32m60\u001b[39m \u001b[38;5;28;43mself\u001b[39;49m\u001b[43m.\u001b[49m\u001b[43mservice\u001b[49m\u001b[43m.\u001b[49m\u001b[43mstart\u001b[49m\u001b[43m(\u001b[49m\u001b[43m)\u001b[49m\n\u001b[32m     62\u001b[39m executor = ChromiumRemoteConnection(\n\u001b[32m     63\u001b[39m     remote_server_addr=\u001b[38;5;28mself\u001b[39m.service.service_url,\n\u001b[32m     64\u001b[39m     browser_name=browser_name,\n\u001b[32m   (...)\u001b[39m\u001b[32m     67\u001b[39m     ignore_proxy=options._ignore_local_proxy,\n\u001b[32m     68\u001b[39m )\n\u001b[32m     70\u001b[39m \u001b[38;5;28;01mtry\u001b[39;00m:\n",
      "\u001b[36mFile \u001b[39m\u001b[32m/mnt/c/Users/Mohamed/Desktop/Nouveau projet/venv/lib/python3.12/site-packages/selenium/webdriver/common/service.py:109\u001b[39m, in \u001b[36mService.start\u001b[39m\u001b[34m(self)\u001b[39m\n\u001b[32m    107\u001b[39m count = \u001b[32m0\u001b[39m\n\u001b[32m    108\u001b[39m \u001b[38;5;28;01mwhile\u001b[39;00m \u001b[38;5;28;01mTrue\u001b[39;00m:\n\u001b[32m--> \u001b[39m\u001b[32m109\u001b[39m     \u001b[38;5;28;43mself\u001b[39;49m\u001b[43m.\u001b[49m\u001b[43massert_process_still_running\u001b[49m\u001b[43m(\u001b[49m\u001b[43m)\u001b[49m\n\u001b[32m    110\u001b[39m     \u001b[38;5;28;01mif\u001b[39;00m \u001b[38;5;28mself\u001b[39m.is_connectable():\n\u001b[32m    111\u001b[39m         \u001b[38;5;28;01mbreak\u001b[39;00m\n",
      "\u001b[36mFile \u001b[39m\u001b[32m/mnt/c/Users/Mohamed/Desktop/Nouveau projet/venv/lib/python3.12/site-packages/selenium/webdriver/common/service.py:122\u001b[39m, in \u001b[36mService.assert_process_still_running\u001b[39m\u001b[34m(self)\u001b[39m\n\u001b[32m    120\u001b[39m return_code = \u001b[38;5;28mself\u001b[39m.process.poll()\n\u001b[32m    121\u001b[39m \u001b[38;5;28;01mif\u001b[39;00m return_code:\n\u001b[32m--> \u001b[39m\u001b[32m122\u001b[39m     \u001b[38;5;28;01mraise\u001b[39;00m WebDriverException(\u001b[33mf\u001b[39m\u001b[33m\"\u001b[39m\u001b[33mService \u001b[39m\u001b[38;5;132;01m{\u001b[39;00m\u001b[38;5;28mself\u001b[39m._path\u001b[38;5;132;01m}\u001b[39;00m\u001b[33m unexpectedly exited. Status code was: \u001b[39m\u001b[38;5;132;01m{\u001b[39;00mreturn_code\u001b[38;5;132;01m}\u001b[39;00m\u001b[33m\"\u001b[39m)\n",
      "\u001b[31mWebDriverException\u001b[39m: Message: Service /home/mohamed/.wdm/drivers/chromedriver/linux64/114.0.5735.90/chromedriver unexpectedly exited. Status code was: 127\n"
     ]
    }
   ],
   "source": [
    "from selenium import webdriver\n",
    "from selenium.webdriver.chrome.service import Service\n",
    "from selenium.webdriver.chrome.options import Options\n",
    "from webdriver_manager.chrome import ChromeDriverManager\n",
    "\n",
    "options = Options()\n",
    "options.add_argument(\"--headless=new\")\n",
    "options.add_argument(\"--no-sandbox\")\n",
    "options.add_argument(\"--disable-dev-shm-usage\")\n",
    "\n",
    "driver = webdriver.Chrome(\n",
    "    service=Service(ChromeDriverManager().install()),\n",
    "    options=options\n",
    ")\n",
    "driver.get(\"https://www.google.com\")\n",
    "print(driver.title)\n",
    "driver.quit()\n"
   ]
  },
  {
   "cell_type": "code",
   "execution_count": null,
   "id": "d4f45403-d709-4ce8-acfb-b10fda57bddf",
   "metadata": {},
   "outputs": [],
   "source": [
    "print(2)"
   ]
  },
  {
   "cell_type": "code",
   "execution_count": 3,
   "id": "e1fbc556-598f-4e48-aeaf-d8069d5ccda0",
   "metadata": {},
   "outputs": [],
   "source": [
    "browser = webdriver.Chrome()\n",
    "browser.get(\"https://books.toscrape.com/\")\n",
    "time.sleep(2)"
   ]
  },
  {
   "cell_type": "code",
   "execution_count": 4,
   "id": "b09d929c-bf5d-4aa9-b10c-c7e74e10b8fe",
   "metadata": {},
   "outputs": [],
   "source": [
    "def get_element_text(driver, xpath):\n",
    "    \"\"\"\n",
    "    Quickly returns the text of an element if found.\n",
    "    If not found, returns an empty string immediately (no waiting or errors).\n",
    "    \"\"\"\n",
    "    try:\n",
    "        elements = driver.find_elements(By.XPATH, xpath)\n",
    "        if elements:\n",
    "            return elements[0].text.strip()\n",
    "        else:\n",
    "            return \"Nan\"\n",
    "    except Exception:\n",
    "        return \"Nan\""
   ]
  },
  {
   "cell_type": "code",
   "execution_count": 5,
   "id": "a20b3a14-0a06-4659-96bb-3ba77aa47e43",
   "metadata": {},
   "outputs": [],
   "source": [
    "def get_element_text_css(driver, css_selector):\n",
    "    \"\"\"\n",
    "    Quickly return text for a CSS selector, or empty string if not found.\n",
    "    Much faster than waiting for exceptions.\n",
    "    \"\"\"\n",
    "    try:\n",
    "        elements = driver.find_elements(By.CSS_SELECTOR, css_selector)\n",
    "        return elements[0].text.strip() if elements else \"\"\n",
    "    except Exception:\n",
    "        return \"\""
   ]
  },
  {
   "cell_type": "code",
   "execution_count": null,
   "id": "642b9f89-007a-4e69-a0a4-fc2568dc8166",
   "metadata": {},
   "outputs": [],
   "source": [
    "product_list = []\n",
    "\n",
    "driver = browser\n",
    "\n",
    "product_info = {\n",
    "    # \"name\": get_element_text(driver, \"//span[@id='productTitle']\"),\n",
    "    # \"price\": get_element_text(driver, \"//div[@id='corePriceDisplay_desktop_feature_div']//span[@aria-hidden='true']\"),\n",
    "    # \"pricef\": next((line for line in get_element_text(driver, \"//div[@id='corePriceDisplay_desktop_feature_div']\").split('\\n') if line.strip().startswith('MAD')), None),\n",
    "    # \"price2\": get_element_text(driver, \"//div[@id='corePriceDisplay_desktop_feature_div']//*[contains(text(), 'MAD')][last()]\"),\n",
    "    # \"price3\": get_element_text(driver, \"//div[@id='corePriceDisplay_desktop_feature_div']\"),\n",
    "    # \"price3s\": get_element_text(driver, \"//div[contains(@id, 'corePrice')]\"),\n",
    "    # \"price4\": (\"MAD\" + get_element_text(driver, \"//div[@id='corePriceDisplay_desktop_feature_div']\").split(\"MAD\")[-1].split(\"Typical\")[0].strip()),    \n",
    "    # \"past month\" : get_element_text(driver, \"//div[@class='a-section a-spacing-micro social-proofing-faceout']\"),\n",
    "    # \"Brand\": get_element_text(driver, \"//div[@id='prodDetails']//th[normalize-space(.)='Brand']/following-sibling::td[@class='a-size-base prodDetAttrValue'] | //div[@id='productOverview_feature_div']//tr[contains(@class, 'po-brand')]//td[2]//span[@class='a-size-base']\"),\n",
    "    # \"Brandc\": get_element_text(driver, \"//div[@id='productOverview_feature_div']//tr[.//span[contains(., 'Brand')]]//td[2]\"),\n",
    "    \"colorc\": get_element_text(driver, \"//div[@id='prodDetails']//th[normalize-space(.)='Color']/following-sibling::td[@class='a-size-base prodDetAttrValue'] | //div[@id='productOverview_feature_div']//tr[.//span[contains(., 'Color')]]//td[2]\" ),\n",
    "    # \"Recommended Uses For Product\": get_element_text(driver, \"//div[@id='prodDetails']//th[normalize-space(.)='Recommended Uses For Product']/following-sibling::td[@class='a-size-base prodDetAttrValue']\"),\n",
    "    # \"Mounting Type\": get_element_text(driver, \"//div[@id='prodDetails']//th[normalize-space(.)='Mounting Type']/following-sibling::td[@class='a-size-base prodDetAttrValue']\"),\n",
    "    # \"Finish Type\": get_element_text(driver, \"//div[@id='prodDetails']//th[normalize-space(.)='Finish Type']/following-sibling::td[@class='a-size-base prodDetAttrValue']\"),\n",
    "    # \"Material\": get_element_text(driver, \"//div[@id='prodDetails']//th[normalize-space(.)='Material']/following-sibling::td[@class='a-size-base prodDetAttrValue']\"),\n",
    "    # \"Color\": get_element_text(driver, \"//div[@id='prodDetails']//th[normalize-space(.)='Color']/following-sibling::td[@class='a-size-base prodDetAttrValue']\"),\n",
    "    # \"Number of Handles\": get_element_text(driver, \"//div[@id='prodDetails']//th[normalize-space(.)='Number of Handles']/following-sibling::td[@class='a-size-base prodDetAttrValue']\"),\n",
    "    # \"Number of Handles1\": get_element_text(driver, \"//div[@id='prodDetails']//th[normalize-space(.)='Number of Handles']/following-sibling::td[@class='a-size-base prodDetAttrValue'] | //div[@id='productOverview_feature_div']//tr[.//span[contains(., 'Number of Handles')]]//td[2]\" ),\n",
    "    # \"Included Components\": get_element_text(driver, \"//div[@id='prodDetails']//th[normalize-space(.)='Included Components']/following-sibling::td[@class='a-size-base prodDetAttrValue']\"),\n",
    "    # \"Hole Count\": get_element_text(driver, \"//div[@id='prodDetails']//th[normalize-space(.)='Hole Count']/following-sibling::td[@class='a-size-base prodDetAttrValue']\"),\n",
    "    # \"Special Feature\": get_element_text(driver, \"//div[@id='prodDetails']//th[normalize-space(.)='Special Feature']/following-sibling::td[@class='a-size-base prodDetAttrValue']\"),\n",
    "    \"Style\": get_element_text(driver, \"//div[@id='prodDetails']//th[normalize-space(.)='Style']/following-sibling::td[@class='a-size-base prodDetAttrValue'] | //span[@id='inline-twister-expanded-dimension-text-style_name']\"),\n",
    "    \"Style2\": get_element_text(driver, \"//div[@id='prodDetails']//th[normalize-space(.)='Style']/following-sibling::td[@class='a-size-base prodDetAttrValue'] | //div[@id='merchByAmazonBranding_feature_div']//tr[.//span[contains(., 'Style')]]//td[2]\" ),\n",
    "    # \"Installation Type\": get_element_text(driver, \"//div[@id='prodDetails']//th[normalize-space(.)='Installation Type']/following-sibling::td[@class='a-size-base prodDetAttrValue']\"),\n",
    "    # \"Number of Pieces\": get_element_text(driver, \"//div[@id='prodDetails']//th[normalize-space(.)='Number of Pieces']/following-sibling::td[@class='a-size-base prodDetAttrValue']\"),\n",
    "    # \"Handle Material\": get_element_text(driver, \"//div[@id='prodDetails']//th[normalize-space(.)='Handle Material']/following-sibling::td[@class='a-size-base prodDetAttrValue']\"),\n",
    "    # \"Spout Height\": get_element_text(driver, \"//div[@id='prodDetails']//th[normalize-space(.)='Spout Height']/following-sibling::td[@class='a-size-base prodDetAttrValue']\"),\n",
    "    # \"Spout Reach\": get_element_text(driver, \"//div[@id='prodDetails']//th[normalize-space(.)='Spout Reach']/following-sibling::td[@class='a-size-base prodDetAttrValue']\"),\n",
    "    # \"Item Weight\": get_element_text(driver, \"//div[@id='prodDetails']//th[normalize-space(.)='Item Weight'][1]/following-sibling::td[@class='a-size-base prodDetAttrValue']\"),\n",
    "    # \"Series ID\": get_element_text(driver, \"//div[@id='prodDetails']//th[normalize-space(.)='Series ID']/following-sibling::td[@class='a-size-base prodDetAttrValue']\"),\n",
    "    # \"Warranty Type\": get_element_text(driver, \"//div[@id='prodDetails']//th[normalize-space(.)='Warranty Type']/following-sibling::td[@class='a-size-base prodDetAttrValue']\"),\n",
    "    # \"Handle Location\": get_element_text(driver, \"//div[@id='prodDetails']//th[normalize-space(.)='Handle Location']/following-sibling::td[@class='a-size-base prodDetAttrValue']\"),\n",
    "    # \"Speaker Cutout Diameter or Length\": get_element_text(driver, \"//div[@id='prodDetails']//th[normalize-space(.)='Speaker Cutout Diameter or Length']/following-sibling::td[@class='a-size-base prodDetAttrValue']\"),\n",
    "    # \"Spout Design\": get_element_text(driver, \"//div[@id='prodDetails']//th[normalize-space(.)='Spout Design']/following-sibling::td[@class='a-size-base prodDetAttrValue']\"),\n",
    "    # \"Manufacturer\": get_element_text(driver, \"//div[@id='prodDetails']//th[normalize-space(.)='Manufacturer']/following-sibling::td[@class='a-size-base prodDetAttrValue']\"),\n",
    "    # \"Product Dimensions\": get_element_text(driver, \"//div[@id='prodDetails']//th[normalize-space(.)='Product Dimensions']/following-sibling::td[@class='a-size-base prodDetAttrValue']\"),\n",
    "    # \"Part Number\": get_element_text(driver, \"//div[@id='prodDetails']//th[normalize-space(.)='Part Number']/following-sibling::td[@class='a-size-base prodDetAttrValue']\"),\n",
    "    # \"Item model number\": get_element_text(driver, \"//div[@id='prodDetails']//th[normalize-space(.)='Item model number']/following-sibling::td[@class='a-size-base prodDetAttrValue']\"),\n",
    "    # \"Is Discontinued By Manufacturer\": get_element_text(driver, \"//div[@id='prodDetails']//th[normalize-space(.)='Is Discontinued By Manufacturer']/following-sibling::td[@class='a-size-base prodDetAttrValue']\"),\n",
    "    # \"Finish\": get_element_text(driver, \"//div[@id='prodDetails']//th[normalize-space(.)='Finish']/following-sibling::td[@class='a-size-base prodDetAttrValue']\"),\n",
    "    # \"Pattern\": get_element_text(driver, \"//div[@id='prodDetails']//th[normalize-space(.)='Pattern']/following-sibling::td[@class='a-size-base prodDetAttrValue']\"),\n",
    "    # \"Shape\": get_element_text(driver, \"//div[@id='prodDetails']//th[normalize-space(.)='Shape']/following-sibling::td[@class='a-size-base prodDetAttrValue']\"),\n",
    "    # \"Item Package Quantity\": get_element_text(driver, \"//div[@id='prodDetails']//th[normalize-space(.)='Item Package Quantity']/following-sibling::td[@class='a-size-base prodDetAttrValue']\"),\n",
    "    # \"Hose Length\": get_element_text(driver, \"//div[@id='prodDetails']//th[normalize-space(.)='Hose Length']/following-sibling::td[@class='a-size-base prodDetAttrValue']\"),\n",
    "    # \"Flush Type\": get_element_text(driver, \"//div[@id='prodDetails']//th[normalize-space(.)='Flush Type']/following-sibling::td[@class='a-size-base prodDetAttrValue']\"),\n",
    "    # \"Special Features\": get_element_text(driver, \"//div[@id='prodDetails']//th[normalize-space(.)='Special Features']/following-sibling::td[@class='a-size-base prodDetAttrValue']\"),\n",
    "    # \"Batteries Included?\": get_element_text(driver, \"//div[@id='prodDetails']//th[normalize-space(.)='Batteries Included?']/following-sibling::td[@class='a-size-base prodDetAttrValue']\"),\n",
    "    # \"Batteries Required?\": get_element_text(driver, \"//div[@id='prodDetails']//th[normalize-space(.)='Batteries Required?']/following-sibling::td[@class='a-size-base prodDetAttrValue']\"),\n",
    "    # \"Warranty Description\": get_element_text(driver, \"//div[@id='prodDetails']//th[normalize-space(.)='Warranty Description']/following-sibling::td[@class='a-size-base prodDetAttrValue']\"),\n",
    "    # \"ASIN\": get_element_text(driver, \"//div[@id='prodDetails']//th[normalize-space(.)='ASIN']/following-sibling::td[@class='a-size-base prodDetAttrValue']\"),\n",
    "    # \"rating\": get_element_text('//*[@id=\"acrPopover\"]/span[1]/a/span'),\n",
    "    # \"Customer Reviews\": get_element_text(driver, \"//div[@id='prodDetails']//th[normalize-space(.)='Customer Reviews']/following-sibling::td//span[@id='acrCustomerReviewText']\"),\n",
    "    # \"Reviews Count\": get_element_text(driver, \"//span[@id='acrCustomerReviewText']\"),\n",
    "    # \"5 star\": get_element_text_css(driver, \"#histogramTable li:nth-child(1) .a-text-right.aok-nowrap\"),\n",
    "    # \"4 star\": get_element_text_css(driver, \"#histogramTable li:nth-child(2) .a-text-right.aok-nowrap\"),\n",
    "    # \"3 star\": get_element_text_css(driver, \"#histogramTable li:nth-child(3) .a-text-right.aok-nowrap\"),\n",
    "    # \"2 star\": get_element_text_css(driver, \"#histogramTable li:nth-child(4) .a-text-right.aok-nowrap\"),\n",
    "    # \"1 star\": get_element_text_css(driver, \"#histogramTable li:nth-child(5) .a-text-right.aok-nowrap\"),\n",
    "    # \"Best Sellers Rank\": get_element_text(driver, \"//div[@id='prodDetails']//th[normalize-space(.)='Best Sellers Rank']/following-sibling::td//span[@class='a-list-item']\"),\n",
    "    # \"Date First Available1\": get_element_text(driver, \"//div[@id='detailBulletsWrapper_feature_div']//span[contains(@class, 'a-text-bold') and contains(., 'Date First Available')]/following-sibling::span\"),\n",
    "    # \"Date First Available2\": get_element_text(driver, \"//div[@id='detailBulletsWrapper_feature_div']//span[contains(@class, 'a-text-bold') and contains(., 'Date First Available')]/following-sibling::span | //div[@id='prodDetails']//th[normalize-space(.)='Date First Available']/following-sibling::td[@class='a-size-base prodDetAttrValue']\"),\n",
    "    # \"Product Dimensions\": get_element_text(driver, \"//div[@id='detailBulletsWrapper_feature_div']//span[contains(@class, 'a-text-bold') and contains(., 'Product Dimensions')]/following-sibling::span\"),\n",
    "    # \"ASIN\": get_element_text(driver, \"//div[@id='detailBulletsWrapper_feature_div']//span[contains(@class, 'a-text-bold') and contains(., 'ASIN')]/following-sibling::span\"),\n",
    "    # \"Manufacturer\": get_element_text(driver, \"//div[@id='detailBulletsWrapper_feature_div']//span[contains(@class, 'a-text-bold') and contains(., 'Manufacturer')]/following-sibling::span\"),\n",
    "    # \"Manufacturer2\": get_element_text(driver, \"//span[contains(@class, 'a-text-bold') and contains(., 'Manufacturer') and not(contains(., 'Discontinued'))]/following-sibling::*[1]\"),\n",
    "    # \"Best Sellers Rank1\": get_element_text(driver, \"//div[@id='detailBulletsWrapper_feature_div']//span[contains(@class, 'a-text-bold') and contains(., 'Best Sellers Rank')]/following-sibling::span\"),\n",
    "    # \"Best Sellers Rank2\": get_element_text(driver, \"//div[@id='detailBulletsWrapper_feature_div']//span[contains(@class, 'a-text-bold') and contains(., 'Best Sellers Rank')]/following-sibling::span | //div[@id='prodDetails']//th[normalize-space(.)='Best Sellers Rank']/following-sibling::td//span[@class='a-list-item']\"),\n",
    "    # \"Best Sellers Rank3\": get_element_text(driver, \"//div[@id='detailBulletsWrapper_feature_div']//li[.//span[contains(@class, 'a-text-bold') and contains(., 'Best Sellers Rank')]]//span[@class='a-list-item'] | //div[@id='prodDetails']//th[normalize-space(.)='Best Sellers Rank']/following-sibling::td//span[@class='a-list-item']\"),\n",
    "    \n",
    "    \"color9\": get_element_text(driver, \"//div[@id='prodDetails']//th[normalize-space(.)='Color']/following-sibling::td[@class='a-size-base prodDetAttrValue'] | //div[@id='productOverview_feature_div']//tr[.//span[contains(., 'Color')]]//td[2] | //span[@id='inline-twister-expanded-dimension-text-color_name']\"),\n",
    "\n",
    "    \"style\": get_element_text(driver, \"//span[@id='inline-twister-expanded-dimension-text-style_name']\"),\n",
    "    \"Date First Available\": get_element_text(driver, \"//div[@id='prodDetails']//th[normalize-space(.)='Date First Available']/following-sibling::td[@class='a-size-base prodDetAttrValue']\")\n",
    "}\n",
    "\n",
    "product_list.append(product_info)\n",
    "time.sleep(1)"
   ]
  },
  {
   "cell_type": "code",
   "execution_count": 9,
   "id": "8c1f2e62-30fe-489f-9068-368788e3bccf",
   "metadata": {},
   "outputs": [
    {
     "data": {
      "text/html": [
       "<div>\n",
       "<style scoped>\n",
       "    .dataframe tbody tr th:only-of-type {\n",
       "        vertical-align: middle;\n",
       "    }\n",
       "\n",
       "    .dataframe tbody tr th {\n",
       "        vertical-align: top;\n",
       "    }\n",
       "\n",
       "    .dataframe thead th {\n",
       "        text-align: right;\n",
       "    }\n",
       "</style>\n",
       "<table border=\"1\" class=\"dataframe\">\n",
       "  <thead>\n",
       "    <tr style=\"text-align: right;\">\n",
       "      <th></th>\n",
       "      <th>colorc</th>\n",
       "      <th>Style</th>\n",
       "      <th>Style2</th>\n",
       "      <th>color9</th>\n",
       "      <th>style</th>\n",
       "      <th>Date First Available</th>\n",
       "    </tr>\n",
       "  </thead>\n",
       "  <tbody>\n",
       "    <tr>\n",
       "      <th>0</th>\n",
       "      <td>Miulti</td>\n",
       "      <td>Nan</td>\n",
       "      <td>Nan</td>\n",
       "      <td>Miulti</td>\n",
       "      <td>Nan</td>\n",
       "      <td>June 15, 2023</td>\n",
       "    </tr>\n",
       "  </tbody>\n",
       "</table>\n",
       "</div>"
      ],
      "text/plain": [
       "   colorc Style Style2  color9 style Date First Available\n",
       "0  Miulti   Nan    Nan  Miulti   Nan        June 15, 2023"
      ]
     },
     "execution_count": 9,
     "metadata": {},
     "output_type": "execute_result"
    }
   ],
   "source": [
    "df = pd.DataFrame(product_list)\n",
    "df.head()"
   ]
  },
  {
   "cell_type": "code",
   "execution_count": 88,
   "id": "70622fcc-cb19-4915-9d5a-eafc33dce29e",
   "metadata": {},
   "outputs": [],
   "source": [
    "    # \"ASIN\": get_element_text(\"//table[@id='productDetails_detailBullets_sections1']//th[normalize-space(.)='ASIN']/following-sibling::td[@class='a-size-base prodDetAttrValue']\"),\n",
    "    # \"Customer Reviews\": get_element_text(\"//table[@id='productDetails_detailBullets_sections1']//th[normalize-space(.)='Customer Reviews']/following-sibling::td//span[@id='acrCustomerReviewText']\"),\n",
    "    # \"Best Sellers Rank\": get_element_text(\"//table[@id='productDetails_detailBullets_sections1']//th[normalize-space(.)='Best Sellers Rank']/following-sibling::td//span[@class='a-list-item']\"),\n",
    "    # \"Date First Available\": get_element_text(\"//table[@id='productDetails_detailBullets_sections1']//th[normalize-space(.)='Date First Available']/following-sibling::td[@class='a-size-base prodDetAttrValue']\")"
   ]
  },
  {
   "cell_type": "code",
   "execution_count": 121,
   "id": "f24d0bce-1ed1-4909-9752-cbd515f86cbf",
   "metadata": {},
   "outputs": [
    {
     "data": {
      "text/plain": [
       "0    \n",
       "Name: price, dtype: object"
      ]
     },
     "execution_count": 121,
     "metadata": {},
     "output_type": "execute_result"
    }
   ],
   "source": [
    "df['price']"
   ]
  },
  {
   "cell_type": "code",
   "execution_count": null,
   "id": "c69fb3f8-cf6d-4955-b4ba-871b50f51a23",
   "metadata": {},
   "outputs": [],
   "source": []
  }
 ],
 "metadata": {
  "kernelspec": {
   "display_name": "Python 3 (ipykernel)",
   "language": "python",
   "name": "python3"
  },
  "language_info": {
   "codemirror_mode": {
    "name": "ipython",
    "version": 3
   },
   "file_extension": ".py",
   "mimetype": "text/x-python",
   "name": "python",
   "nbconvert_exporter": "python",
   "pygments_lexer": "ipython3",
   "version": "3.12.3"
  }
 },
 "nbformat": 4,
 "nbformat_minor": 5
}
