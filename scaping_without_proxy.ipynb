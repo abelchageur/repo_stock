{
 "cells": [
  {
   "cell_type": "code",
   "execution_count": 1,
   "id": "d72b940d-145f-4a15-805f-6a640bedb125",
   "metadata": {},
   "outputs": [],
   "source": [
    "from selenium import webdriver\n",
    "from selenium.webdriver.common.by import By\n",
    "from selenium.webdriver.chrome.options import Options\n",
    "from selenium.common.exceptions import NoSuchElementException  \n",
    "from selenium.webdriver.support.ui import WebDriverWait\n",
    "from selenium.webdriver.support import expected_conditions as EC\n",
    "import numpy as np\n",
    "import pandas as pd\n",
    "import random\n",
    "import time"
   ]
  },
  {
   "cell_type": "code",
   "execution_count": null,
   "id": "7a3bbe5e-df84-4dfa-8446-0d93d373bf1c",
   "metadata": {},
   "outputs": [],
   "source": [
    "browser = webdriver.Chrome()\n",
    "browser.get(\"https://www.amazon.com/s?k=travel&page=1\")\n",
    "time.sleep(2)"
   ]
  },
  {
   "cell_type": "code",
   "execution_count": null,
   "id": "0616cabd-e954-45a1-8fd7-adbb2dc8df7b",
   "metadata": {},
   "outputs": [],
   "source": [
    "def get_element_text(driver, xpath):\n",
    "    \"\"\"\n",
    "    Quickly returns the text of an element if found.\n",
    "    If not found, returns an empty string immediately (no waiting or errors).\n",
    "    \"\"\"\n",
    "    try:\n",
    "        elements = driver.find_elements(By.XPATH, xpath)\n",
    "        if elements:\n",
    "            return elements[0].text.strip()\n",
    "        else:\n",
    "            return \"Nan\"\n",
    "    except Exception:\n",
    "        return \"Nan\""
   ]
  },
  {
   "cell_type": "code",
   "execution_count": null,
   "id": "fe244b78-0347-4445-a9fc-e8cdf51cdea2",
   "metadata": {},
   "outputs": [],
   "source": [
    "def get_element_text_css(driver, css_selector):\n",
    "    \"\"\"\n",
    "    Quickly return text for a CSS selector, or empty string if not found.\n",
    "    Much faster than waiting for exceptions.\n",
    "    \"\"\"\n",
    "    try:\n",
    "        elements = driver.find_elements(By.CSS_SELECTOR, css_selector)\n",
    "        return elements[0].text.strip() if elements else \"\"\n",
    "    except Exception:\n",
    "        return \"\""
   ]
  },
  {
   "cell_type": "code",
   "execution_count": null,
   "id": "569af4b8-25c2-4c46-aa33-d138a60eef8e",
   "metadata": {},
   "outputs": [],
   "source": [
    "from urllib.parse import urljoin\n",
    "driver = browser\n",
    "product_list = [] \n",
    "\n",
    "for n in range(2,3):\n",
    "    product_urls = []\n",
    "    product_divs = browser.find_elements(By.CSS_SELECTOR, 'div[role=\"listitem\"]')\n",
    "    for div in product_divs:\n",
    "        try:\n",
    "            a_tag = div.find_element(By.TAG_NAME, \"a\")\n",
    "            href = a_tag.get_attribute(\"href\")\n",
    "            if href:\n",
    "                product_urls.append(href)\n",
    "        except:\n",
    "            continue \n",
    "    for link in product_urls:\n",
    "        browser.get(link)\n",
    "        time.sleep(0.5)\n",
    "\n",
    "        product_info = {\n",
    "            \"name\": get_element_text(driver, \"//span[@id='productTitle']\"),\n",
    "            \"price\": get_element_text(driver, \"//div[contains(@id, 'corePrice')]\"),    \n",
    "            \"price_helper\": get_element_text(driver, \"//div[@id='corePriceDisplay_desktop_feature_div']\"),\n",
    "            \"past month\" : get_element_text(driver, \"//div[@class='a-section a-spacing-micro social-proofing-faceout']\"),\n",
    "            \"Brand\": get_element_text(driver, \"//div[@id='prodDetails']//th[normalize-space(.)='Brand']/following-sibling::td[@class='a-size-base prodDetAttrValue'] | //div[@id='productOverview_feature_div']//tr[.//span[contains(., 'Brand')]]//td[2]\"),\n",
    "            \"Recommended Uses For Product\": get_element_text(driver, \"//div[@id='prodDetails']//th[normalize-space(.)='Recommended Uses For Product']/following-sibling::td[@class='a-size-base prodDetAttrValue']| //div[@id='productOverview_feature_div']//tr[.//span[contains(., 'Recommended Uses For Product')]]//td[2]\" ),\n",
    "            # \"Mounting Type\": get_element_text(driver, \"//div[@id='prodDetails']//th[normalize-space(.)='Mounting Type']/following-sibling::td[@class='a-size-base prodDetAttrValue']| //div[@id='productOverview_feature_div']//tr[.//span[contains(., 'Mounting Type')]]//td[2]\" ),\n",
    "            # \"Finish Type\": get_element_text(driver, \"//div[@id='prodDetails']//th[normalize-space(.)='Finish Type']/following-sibling::td[@class='a-size-base prodDetAttrValue'] | //div[@id='productOverview_feature_div']//tr[.//span[contains(., 'Finish Type')]]//td[2]\" ),\n",
    "            \"Material\": get_element_text(driver, \"//div[@id='prodDetails']//th[normalize-space(.)='Material']/following-sibling::td[@class='a-size-base prodDetAttrValue'] | //div[@id='productOverview_feature_div']//tr[.//span[contains(., 'Material')]]//td[2]\" ),\n",
    "            \"Color\": get_element_text(driver, \"//div[@id='prodDetails']//th[normalize-space(.)='Color']/following-sibling::td[@class='a-size-base prodDetAttrValue'] | //div[@id='productOverview_feature_div']//tr[.//span[contains(., 'Color')]]//td[2] | //span[@id='inline-twister-expanded-dimension-text-color_name']\"),\n",
    "            # \"Number of Handles\": get_element_text(driver, \"//div[@id='prodDetails']//th[normalize-space(.)='Number of Handles']/following-sibling::td[@class='a-size-base prodDetAttrValue'] | //div[@id='productOverview_feature_div']//tr[.//span[contains(., 'Number of Handles')]]//td[2]\" ),\n",
    "            # \"Included Components\": get_element_text(driver, \"//div[@id='prodDetails']//th[normalize-space(.)='Included Components']/following-sibling::td[@class='a-size-base prodDetAttrValue'] | //div[@id='productOverview_feature_div']//tr[.//span[contains(., 'Included Components')]]//td[2]\" ),\n",
    "            # \"Hole Count\": get_element_text(driver, \"//div[@id='prodDetails']//th[normalize-space(.)='Hole Count']/following-sibling::td[@class='a-size-base prodDetAttrValue'] | //div[@id='productOverview_feature_div']//tr[.//span[contains(., 'Hole Count')]]//td[2]\" ),\n",
    "            # \"Special Feature\": get_element_text(driver, \"//div[@id='prodDetails']//th[normalize-space(.)='Special Feature']/following-sibling::td[@class='a-size-base prodDetAttrValue'] | //div[@id='productOverview_feature_div']//tr[.//span[contains(., 'Special Feature')]]//td[2]\" ),\n",
    "            # \"Style\": get_element_text(driver, \"//div[@id='prodDetails']//th[normalize-space(.)='Style']/following-sibling::td[@class='a-size-base prodDetAttrValue'] | //div[@id='productOverview_feature_div']//tr[.//span[contains(., 'Style')]]//td[2] | //span[@id='inline-twister-expanded-dimension-text-style_name']\"),\n",
    "            # \"Installation Type\": get_element_text(driver, \"//div[@id='prodDetails']//th[normalize-space(.)='Installation Type']/following-sibling::td[@class='a-size-base prodDetAttrValue'] | //div[@id='productOverview_feature_div']//tr[.//span[contains(., 'Installation Type')]]//td[2]\" ),\n",
    "            # \"Number of Pieces\": get_element_text(driver, \"//div[@id='prodDetails']//th[normalize-space(.)='Number of Pieces']/following-sibling::td[@class='a-size-base prodDetAttrValue'] | //div[@id='productOverview_feature_div']//tr[.//span[contains(., 'Number of Pieces')]]//td[2]\" ),\n",
    "            # \"Handle Material\": get_element_text(driver, \"//div[@id='prodDetails']//th[normalize-space(.)='Handle Material']/following-sibling::td[@class='a-size-base prodDetAttrValue'] | //div[@id='productOverview_feature_div']//tr[.//span[contains(., 'Handle Material')]]//td[2]\" ),\n",
    "            # \"Spout Height\": get_element_text(driver, \"//div[@id='prodDetails']//th[normalize-space(.)='Spout Height']/following-sibling::td[@class='a-size-base prodDetAttrValue'] | //div[@id='productOverview_feature_div']//tr[.//span[contains(., 'Spout Height')]]//td[2]\" ),\n",
    "            # \"Spout Reach\": get_element_text(driver, \"//div[@id='prodDetails']//th[normalize-space(.)='Spout Reach']/following-sibling::td[@class='a-size-base prodDetAttrValue'] | //div[@id='productOverview_feature_div']//tr[.//span[contains(., 'Spout Reach')]]//td[2]\" ),\n",
    "            # \"Item Weight\": get_element_text(driver, \"//div[@id='prodDetails']//th[normalize-space(.)='Item Weight'][1]/following-sibling::td[@class='a-size-base prodDetAttrValue'] | //div[@id='productOverview_feature_div']//tr[.//span[contains(., 'Item Weight')]]//td[2]\" ),\n",
    "            # \"Series ID\": get_element_text(driver, \"//div[@id='prodDetails']//th[normalize-space(.)='Series ID']/following-sibling::td[@class='a-size-base prodDetAttrValue'] | //div[@id='productOverview_feature_div']//tr[.//span[contains(., 'Series ID')]]//td[2]\" ),\n",
    "            # \"Warranty Type\": get_element_text(driver, \"//div[@id='prodDetails']//th[normalize-space(.)='Warranty Type']/following-sibling::td[@class='a-size-base prodDetAttrValue'] | //div[@id='productOverview_feature_div']//tr[.//span[contains(., 'Warranty Type')]]//td[2]\" ),\n",
    "            # \"Handle Location\": get_element_text(driver, \"//div[@id='prodDetails']//th[normalize-space(.)='Handle Location']/following-sibling::td[@class='a-size-base prodDetAttrValue'] | //div[@id='productOverview_feature_div']//tr[.//span[contains(., 'Handle Location')]]//td[2]\" ),\n",
    "            # \"Speaker Cutout Diameter or Length\": get_element_text(driver, \"//div[@id='prodDetails']//th[normalize-space(.)='Speaker Cutout Diameter or Length']/following-sibling::td[@class='a-size-base prodDetAttrValue'] | //div[@id='productOverview_feature_div']//tr[.//span[contains(., 'Speaker Cutout Diameter or Length')]]//td[2]\" ),\n",
    "            # \"Spout Design\": get_element_text(driver, \"//div[@id='prodDetails']//th[normalize-space(.)='Spout Design']/following-sibling::td[@class='a-size-base prodDetAttrValue'] | //div[@id='productOverview_feature_div']//tr[.//span[contains(., 'Spout Design')]]//td[2]\" ),\n",
    "            # \"Manufacturer\": get_element_text(driver, \"//span[contains(@class, 'a-text-bold') and contains(., 'Manufacturer') and not(contains(., 'Discontinued'))]/following-sibling::*[1] | //div[@id='prodDetails']//th[normalize-space(.)='Manufacturer']/following-sibling::td[@class='a-size-base prodDetAttrValue'] | //div[@id='productOverview_feature_div']//tr[.//span[contains(., 'Manufacturer')]]//td[2]\" ),            \n",
    "            # \"Product Dimensions\": get_element_text(driver, \"//div[@id='detailBulletsWrapper_feature_div']//span[contains(@class, 'a-text-bold') and contains(., 'Product Dimensions')]/following-sibling::span | //div[@id='prodDetails']//th[normalize-space(.)='Product Dimensions']/following-sibling::td[@class='a-size-base prodDetAttrValue'] | //div[@id='productOverview_feature_div']//tr[.//span[contains(., 'Product Dimensions')]]//td[2]\" ),\n",
    "            # \"Part Number\": get_element_text(driver, \"//div[@id='prodDetails']//th[normalize-space(.)='Part Number']/following-sibling::td[@class='a-size-base prodDetAttrValue'] | //div[@id='productOverview_feature_div']//tr[.//span[contains(., 'Part Number')]]//td[2]\" ),\n",
    "            # \"Item model number\": get_element_text(driver, \"//div[@id='prodDetails']//th[normalize-space(.)='Item model number']/following-sibling::td[@class='a-size-base prodDetAttrValue'] | //div[@id='productOverview_feature_div']//tr[.//span[contains(., 'Item model number')]]//td[2]\" ),\n",
    "            # \"Is Discontinued By Manufacturer\": get_element_text(driver, \"//div[@id='prodDetails']//th[normalize-space(.)='Is Discontinued By Manufacturer']/following-sibling::td[@class='a-size-base prodDetAttrValue'] | //div[@id='productOverview_feature_div']//tr[.//span[contains(., 'Is Discontinued By Manufacturer')]]//td[2]\" ),\n",
    "            # \"Finish\": get_element_text(driver, \"//div[@id='prodDetails']//th[normalize-space(.)='Finish']/following-sibling::td[@class='a-size-base prodDetAttrValue'] | //div[@id='productOverview_feature_div']//tr[.//span[contains(., 'Finish')]]//td[2]\" ),\n",
    "            # \"Pattern\": get_element_text(driver, \"//div[@id='prodDetails']//th[normalize-space(.)='Pattern']/following-sibling::td[@class='a-size-base prodDetAttrValue'] | //div[@id='productOverview_feature_div']//tr[.//span[contains(., 'Pattern')]]//td[2]\" ),\n",
    "            # \"Shape\": get_element_text(driver, \"//div[@id='prodDetails']//th[normalize-space(.)='Shape']/following-sibling::td[@class='a-size-base prodDetAttrValue'] | //div[@id='productOverview_feature_div']//tr[.//span[contains(., 'Shape')]]//td[2]\" ),\n",
    "            # \"Item Package Quantity\": get_element_text(driver, \"//div[@id='prodDetails']//th[normalize-space(.)='Item Package Quantity']/following-sibling::td[@class='a-size-base prodDetAttrValue'] | //div[@id='productOverview_feature_div']//tr[.//span[contains(., 'Item Package Quantity')]]//td[2]\" ),\n",
    "            # \"Hose Length\": get_element_text(driver, \"//div[@id='prodDetails']//th[normalize-space(.)='Hose Length']/following-sibling::td[@class='a-size-base prodDetAttrValue'] | //div[@id='productOverview_feature_div']//tr[.//span[contains(., 'Hose Length')]]//td[2]\" ),\n",
    "            # \"Flush Type\": get_element_text(driver, \"//div[@id='prodDetails']//th[normalize-space(.)='Flush Type']/following-sibling::td[@class='a-size-base prodDetAttrValue'] | //div[@id='productOverview_feature_div']//tr[.//span[contains(., 'Flush Type')]]//td[2]\" ),\n",
    "            # \"Special Features\": get_element_text(driver, \"//div[@id='prodDetails']//th[normalize-space(.)='Special Features']/following-sibling::td[@class='a-size-base prodDetAttrValue'] | //div[@id='productOverview_feature_div']//tr[.//span[contains(., 'Special Features')]]//td[2]\" ),\n",
    "            # \"Batteries Included?\": get_element_text(driver, \"//div[@id='prodDetails']//th[normalize-space(.)='Batteries Included?']/following-sibling::td[@class='a-size-base prodDetAttrValue'] | //div[@id='productOverview_feature_div']//tr[.//span[contains(., 'Batteries Included?')]]//td[2]\" ),\n",
    "            # \"Batteries Required?\": get_element_text(driver, \"//div[@id='prodDetails']//th[normalize-space(.)='Batteries Required?']/following-sibling::td[@class='a-size-base prodDetAttrValue'] | //div[@id='productOverview_feature_div']//tr[.//span[contains(., 'Batteries Required?')]]//td[2]\" ),\n",
    "            # \"Warranty Description\": get_element_text(driver, \"//div[@id='prodDetails']//th[normalize-space(.)='Warranty Description']/following-sibling::td[@class='a-size-base prodDetAttrValue'] | //div[@id='productOverview_feature_div']//tr[.//span[contains(., 'Warranty Description')]]//td[2]\" ),\n",
    "            \"ASIN\": get_element_text(driver, \"//div[@id='detailBulletsWrapper_feature_div']//span[contains(@class, 'a-text-bold') and contains(., 'ASIN')]/following-sibling::span | //div[@id='prodDetails']//th[normalize-space(.)='ASIN']/following-sibling::td[@class='a-size-base prodDetAttrValue'] | //div[@id='productOverview_feature_div']//tr[.//span[contains(., 'ASIN')]]//td[2]\" ),\n",
    "            \"rating\": get_element_text(driver, \"//*[@id='acrPopover']/span[1]/a/span\"),\n",
    "            \"Reviews Count\": get_element_text(driver, \"//span[@id='acrCustomerReviewText']\"),\n",
    "            \"5 star\": get_element_text_css(driver, \"#histogramTable li:nth-child(1) .a-text-right.aok-nowrap\"),\n",
    "            \"4 star\": get_element_text_css(driver, \"#histogramTable li:nth-child(2) .a-text-right.aok-nowrap\"),\n",
    "            \"3 star\": get_element_text_css(driver, \"#histogramTable li:nth-child(3) .a-text-right.aok-nowrap\"),\n",
    "            \"2 star\": get_element_text_css(driver, \"#histogramTable li:nth-child(4) .a-text-right.aok-nowrap\"),\n",
    "            \"1 star\": get_element_text_css(driver, \"#histogramTable li:nth-child(5) .a-text-right.aok-nowrap\"),\n",
    "            \"Best Sellers Rank\": get_element_text(driver, \"//div[@id='detailBulletsWrapper_feature_div']//li[.//span[contains(@class, 'a-text-bold') and contains(., 'Best Sellers Rank')]]//span[@class='a-list-item'] | //div[@id='prodDetails']//th[normalize-space(.)='Best Sellers Rank']/following-sibling::td//span[@class='a-list-item']\"),\n",
    "            \"Date First Available\": get_element_text(driver, \"//div[@id='detailBulletsWrapper_feature_div']//span[contains(@class, 'a-text-bold') and contains(., 'Date First Available')]/following-sibling::span | //div[@id='prodDetails']//th[normalize-space(.)='Date First Available']/following-sibling::td[@class='a-size-base prodDetAttrValue']\"),\n",
    "            \"link\": link\n",
    "        }\n",
    "\n",
    "        product_list.append(product_info)\n",
    "        time.sleep(1)        \n",
    "     \n",
    "    browser.get(f\"https://www.amazon.com/s?k=travel&page={n}\") \n",
    "    time.sleep(0.7)"
   ]
  },
  {
   "cell_type": "code",
   "execution_count": null,
   "id": "ff8771aa-af67-4d94-887a-f2ea2dd6f5c0",
   "metadata": {},
   "outputs": [],
   "source": [
    "df.to_csv('products.csv', index=False)\n",
    "print(\"Data saved to appartements.csv\")\n",
    "browser.quit()"
   ]
  },
  {
   "cell_type": "code",
   "execution_count": null,
   "id": "b960720f-4e61-4c78-be6f-b50b2b225f0f",
   "metadata": {},
   "outputs": [],
   "source": [
    "df = pd.DataFrame(product_list)\n",
    "df.head(1000)"
   ]
  },
  {
   "cell_type": "code",
   "execution_count": null,
   "id": "d3fc003c-d96b-40b6-b93b-027f0e23dca6",
   "metadata": {},
   "outputs": [],
   "source": []
  },
  {
   "cell_type": "code",
   "execution_count": null,
   "id": "d064db3a-1707-42d1-b8cf-6d7c8ea7d013",
   "metadata": {},
   "outputs": [],
   "source": []
  },
  {
   "cell_type": "code",
   "execution_count": null,
   "id": "f7cd86a8-c477-457c-a88c-389c0a664dee",
   "metadata": {},
   "outputs": [],
   "source": []
  },
  {
   "cell_type": "code",
   "execution_count": 2,
   "id": "cab433ab-c7c1-4313-99b1-6828acfdd7a4",
   "metadata": {},
   "outputs": [],
   "source": []
  },
  {
   "cell_type": "code",
   "execution_count": null,
   "id": "16449ea6-7b54-4c0b-8d39-2b5fed2b0068",
   "metadata": {},
   "outputs": [],
   "source": []
  },
  {
   "cell_type": "code",
   "execution_count": null,
   "id": "fd75d93a-2f6f-4e9f-a172-c4180d4114ef",
   "metadata": {},
   "outputs": [],
   "source": []
  },
  {
   "cell_type": "code",
   "execution_count": null,
   "id": "dc6b036a-c226-4a71-89a9-e1bb27e8277f",
   "metadata": {},
   "outputs": [],
   "source": []
  },
  {
   "cell_type": "code",
   "execution_count": null,
   "id": "11c2b941-3771-43be-8be7-cff24a83a089",
   "metadata": {},
   "outputs": [],
   "source": []
  },
  {
   "cell_type": "code",
   "execution_count": null,
   "id": "35efe460-4930-4221-8424-6983c096440e",
   "metadata": {},
   "outputs": [],
   "source": []
  },
  {
   "cell_type": "code",
   "execution_count": null,
   "id": "e365e778-9fbd-4567-a813-91f2396dd0dd",
   "metadata": {},
   "outputs": [],
   "source": []
  },
  {
   "cell_type": "code",
   "execution_count": null,
   "id": "9814eb22-a23d-46cf-8f49-d014e51d8e31",
   "metadata": {},
   "outputs": [],
   "source": []
  },
  {
   "cell_type": "code",
   "execution_count": null,
   "id": "5efd4720-cd89-4258-8c25-094911d4844a",
   "metadata": {},
   "outputs": [],
   "source": []
  }
 ],
 "metadata": {
  "kernelspec": {
   "display_name": "Python 3 (ipykernel)",
   "language": "python",
   "name": "python3"
  },
  "language_info": {
   "codemirror_mode": {
    "name": "ipython",
    "version": 3
   },
   "file_extension": ".py",
   "mimetype": "text/x-python",
   "name": "python",
   "nbconvert_exporter": "python",
   "pygments_lexer": "ipython3",
   "version": "3.12.3"
  }
 },
 "nbformat": 4,
 "nbformat_minor": 5
}
